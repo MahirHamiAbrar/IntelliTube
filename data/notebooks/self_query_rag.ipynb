{
 "cells": [
  {
   "cell_type": "markdown",
   "id": "0d7c391b",
   "metadata": {},
   "source": [
    "# Self Query Retriever Test Notebook"
   ]
  },
  {
   "cell_type": "markdown",
   "id": "f1462fda",
   "metadata": {},
   "source": [
    "## The Types We'll be Using:\n",
    " - Self Query\n",
    " - Multi Query\n",
    " - Query Expansion"
   ]
  },
  {
   "cell_type": "markdown",
   "id": "625d9d99",
   "metadata": {},
   "source": [
    "## Remove old database"
   ]
  },
  {
   "cell_type": "code",
   "execution_count": 1,
   "id": "a1b0ea4d",
   "metadata": {},
   "outputs": [],
   "source": [
    "import os\n",
    "import shutil\n",
    "from loguru import logger\n",
    "\n",
    "vs_path = \"test_data/qdrant_vector_store/test_vct_store\"\n",
    "vsc_path = os.path.join(vs_path, \"collections\")\n",
    "collection_name = \"Steve Jobs' 2005 Stanford Commencement Address\"\n",
    "\n",
    "for path in [vsc_path, vs_path]:\n",
    "    if os.path.exists(path):\n",
    "        logger.info(f\"Removing path: {path}\")\n",
    "        shutil.rmtree(path)"
   ]
  },
  {
   "cell_type": "markdown",
   "id": "576736c4",
   "metadata": {},
   "source": [
    "## Initialize embedding model"
   ]
  },
  {
   "cell_type": "code",
   "execution_count": 2,
   "id": "42217160",
   "metadata": {},
   "outputs": [],
   "source": [
    "from langchain_huggingface import HuggingFaceEmbeddings\n",
    "\n",
    "embedding_model_name: str = 'sentence-transformers/all-MiniLM-L12-v2'\n",
    "embedding_model = HuggingFaceEmbeddings(model=embedding_model_name)"
   ]
  },
  {
   "cell_type": "markdown",
   "id": "4f61a91b",
   "metadata": {},
   "source": [
    "## Create the vector store"
   ]
  },
  {
   "cell_type": "code",
   "execution_count": 3,
   "id": "288afb13",
   "metadata": {},
   "outputs": [
    {
     "name": "stderr",
     "output_type": "stream",
     "text": [
      "\u001b[32m2025-07-15 00:07:37.480\u001b[0m | \u001b[34m\u001b[1mDEBUG   \u001b[0m | \u001b[36mintellitube.vector_store\u001b[0m:\u001b[36minit_vector_store\u001b[0m:\u001b[36m120\u001b[0m - \u001b[34m\u001b[1mNew Qdrant Client Initialized.\u001b[0m\n",
      "\u001b[32m2025-07-15 00:07:37.489\u001b[0m | \u001b[34m\u001b[1mDEBUG   \u001b[0m | \u001b[36mintellitube.vector_store\u001b[0m:\u001b[36minit_vector_store\u001b[0m:\u001b[36m126\u001b[0m - \u001b[34m\u001b[1mNew Vector Store Created.\u001b[0m\n"
     ]
    }
   ],
   "source": [
    "from intellitube.vector_store import VectorStoreManager\n",
    "\n",
    "vdb = VectorStoreManager(\n",
    "    embedding_model=embedding_model,\n",
    "    path_on_disk=vs_path,\n",
    "    collection_path_on_disk=vsc_path,\n",
    "    collection_name=collection_name,\n",
    ")\n",
    "\n",
    "client = vdb.client\n",
    "vectorstore = vdb.vectorstore"
   ]
  },
  {
   "cell_type": "markdown",
   "id": "475eca6f",
   "metadata": {},
   "source": [
    "## Loading YouTube Video Transcript"
   ]
  },
  {
   "cell_type": "code",
   "execution_count": 4,
   "id": "8113104c",
   "metadata": {},
   "outputs": [
    {
     "name": "stderr",
     "output_type": "stream",
     "text": [
      "\u001b[32m2025-07-15 00:07:37.540\u001b[0m | \u001b[34m\u001b[1mDEBUG   \u001b[0m | \u001b[36mintellitube.utils.youtube\u001b[0m:\u001b[36mdownload_youtube_audio_or_transcript\u001b[0m:\u001b[36m133\u001b[0m - \u001b[34m\u001b[1mCache exists, validating cache...\u001b[0m\n",
      "\u001b[32m2025-07-15 00:07:37.541\u001b[0m | \u001b[34m\u001b[1mDEBUG   \u001b[0m | \u001b[36mintellitube.utils.youtube\u001b[0m:\u001b[36mdownload_youtube_audio_or_transcript\u001b[0m:\u001b[36m145\u001b[0m - \u001b[34m\u001b[1mCache contains the requested data. Using cache.\u001b[0m\n"
     ]
    },
    {
     "name": "stdout",
     "output_type": "stream",
     "text": [
      "type='text' transcript_path='test_data/cache/youtube/downloads/0290de54-13f5-4bbe-b3de-7b06f46a5f07.vtt' audio_path=None\n",
      "\n",
      "This program is brought to you by Stanford University.\n",
      "Please visit us at stanford.edu\n",
      "Thank You. I am honored to be with you today at your commencement\n",
      "from one of the finest universities in the world.\n",
      "Truth be told I never graduated from college\n",
      "and this is the closest I've ever gotten to a college graduation.\n",
      "Today I want to tell you three stories from my life. That's it.\n",
      "No big deal. Just three stories.\n",
      "The first story is about connecting the dots.\n",
      "I dropped out of Reed College after the fir\n"
     ]
    }
   ],
   "source": [
    "from intellitube.utils import (\n",
    "    YTContentData, download_youtube_audio_or_transcript, webvtt_2_str\n",
    ")\n",
    "\n",
    "video_url = \"https://www.youtube.com/watch?v=UF8uR6Z6KLc\"\n",
    "video_data: YTContentData = download_youtube_audio_or_transcript(video_url)\n",
    "vtt_str = webvtt_2_str(vtt_file_path=video_data.transcript_path)\n",
    "\n",
    "print(video_data, end='\\n\\n')\n",
    "print(vtt_str[:500])"
   ]
  },
  {
   "cell_type": "markdown",
   "id": "a305c16d",
   "metadata": {},
   "source": [
    "## Split texts & Add them to VDB"
   ]
  },
  {
   "cell_type": "markdown",
   "id": "9d517d3b",
   "metadata": {},
   "source": [
    "### 1. Split Texts + Create Metadatas"
   ]
  },
  {
   "cell_type": "code",
   "execution_count": 5,
   "id": "6e55803f",
   "metadata": {},
   "outputs": [],
   "source": [
    "from langchain_text_splitters import RecursiveCharacterTextSplitter\n",
    "\n",
    "split_chunk_size = 512\n",
    "split_chunk_overlap = 128\n",
    "\n",
    "text_splitter = RecursiveCharacterTextSplitter(\n",
    "    chunk_size=split_chunk_size,\n",
    "    chunk_overlap=split_chunk_overlap,\n",
    ")\n",
    "\n",
    "texts = text_splitter.split_text(vtt_str)\n",
    "metadatas = [\n",
    "    {\"source\": video_url, \"chunk_index\": i + 1}\n",
    "    for i in range(0, len(texts))\n",
    "]"
   ]
  },
  {
   "cell_type": "markdown",
   "id": "1093ce26",
   "metadata": {},
   "source": [
    "### 2. Add them to VDB"
   ]
  },
  {
   "cell_type": "code",
   "execution_count": 6,
   "id": "48b51225",
   "metadata": {},
   "outputs": [
    {
     "data": {
      "text/plain": [
       "['4c4dcc59252c4ad8b8064fe5d0af23eb',\n",
       " 'bfc74a56234e4678841689062bb91965',\n",
       " '1be80c1f4fd74189a254c147503cd956',\n",
       " '872ca096e30a45e0bace8f74725bf718',\n",
       " 'b8df65c424954fe499585362e3ede9d6',\n",
       " '51dcdac3530f453bbc207a08ddf38963',\n",
       " 'e79d9080bcce45988bf6629cc481ff3c',\n",
       " '6a985b0aa3394c62a160f554b38efb6c',\n",
       " '992aef62f4c74adc89203f1895932397',\n",
       " 'cac6cd408a1345a8a2a910439203c106',\n",
       " '1b3fb46c468d4102a2194af25fd9f0a1',\n",
       " '4c561675bf7c4249978a91bf527dfc9b',\n",
       " 'f703c83d7ae84bd3935e11f8977805be',\n",
       " '2e0445a9c1c8407c827b3c76f8b61f4c',\n",
       " '31eba1679c35444a9796d0ceac1413ef',\n",
       " 'a1f5b9b3cc364a7b8ed5fec5e2f26a00',\n",
       " 'c4bd9febc5c242faa8b110612a5b3951',\n",
       " '62d3632950344e1482debdf78a23e08d',\n",
       " '16336c1ec620431cab069016ca211f65',\n",
       " '3b6fffe43004411f8c0dc4f1016a71bc',\n",
       " 'ec23e055690141e39bc3fe23b83a5ff0',\n",
       " '380e2841aee04ed7ae7a3d3ce4c0ffd0',\n",
       " '29ec9b5446e84a8f855af41df35327c7',\n",
       " '6c5c0b34502f4d71b106175ac7d844c1',\n",
       " 'f419a7f41a8143359fd3bf5170792312',\n",
       " '7bf11a84f3c943ab99f720abcb21de8c',\n",
       " '0cf33c52637742679a9cf1f607dfb383',\n",
       " '6878c436c57542809d7a81c0f000c0cf',\n",
       " '6319bb9fbb2749fcac5e746ba398e366',\n",
       " '069da8c354294a9ca21073d1cad7fced',\n",
       " 'f21ed5e97a8946dfab5d72823e9097cc',\n",
       " '3768f1d95e9d4e8f9f8ffa638d3e1f05']"
      ]
     },
     "execution_count": 6,
     "metadata": {},
     "output_type": "execute_result"
    }
   ],
   "source": [
    "vectorstore.add_texts(texts=texts, metadatas=metadatas)"
   ]
  },
  {
   "cell_type": "markdown",
   "id": "7301d5d7",
   "metadata": {},
   "source": [
    "## Create the Retriever"
   ]
  },
  {
   "cell_type": "code",
   "execution_count": 7,
   "id": "1bdb5bd8",
   "metadata": {},
   "outputs": [],
   "source": [
    "retriever = vectorstore.as_retriever(\n",
    "    search_type=\"similarity_score_threshold\",\n",
    "    search_kwargs={'score_threshold': 0.6}\n",
    ")"
   ]
  },
  {
   "cell_type": "markdown",
   "id": "6c65d771",
   "metadata": {},
   "source": [
    "## Retrieve all the documents by metadata filtering\n",
    "Thanks to this [stackoverflow question!](https://stackoverflow.com/questions/78118020/qdrant-client-scroll-filter-does-not-work)"
   ]
  },
  {
   "cell_type": "code",
   "execution_count": 8,
   "id": "8a7eb8c4",
   "metadata": {},
   "outputs": [
    {
     "name": "stdout",
     "output_type": "stream",
     "text": [
      "32\n"
     ]
    }
   ],
   "source": [
    "from qdrant_client import models\n",
    "\n",
    "scroll_result = client.scroll(\n",
    "    collection_name=collection_name,\n",
    "    scroll_filter=models.Filter(\n",
    "        must=[\n",
    "            models.FieldCondition(key=\"metadata.source\", match=models.MatchValue(value=video_url)),\n",
    "            # models.FieldCondition(key=\"metadata.chunk_index\", match=models.MatchValue(value=2)),\n",
    "        ]\n",
    "    ),\n",
    "    limit=1000,\n",
    "    with_payload=True,\n",
    "    with_vectors=False\n",
    ")\n",
    "\n",
    "print(len(scroll_result[0]))\n",
    "# print(scroll_result[1])"
   ]
  },
  {
   "cell_type": "code",
   "execution_count": 9,
   "id": "0941dfd7",
   "metadata": {},
   "outputs": [
    {
     "data": {
      "text/plain": [
       "[Document(metadata={'source': 'https://www.youtube.com/watch?v=UF8uR6Z6KLc', 'chunk_index': 27, '_id': '0cf33c52637742679a9cf1f607dfb383', '_collection_name': \"Steve Jobs' 2005 Stanford Commencement Address\"}, page_content=\"death was a useful but purely intellectual concept:\\nNo one wants to die.\\nEven people who want to go to heaven don't want to die to get there.\\nAnd yet death is the destination we all share.\\nNo one has ever escaped it. And that is as it should be,\\nbecause Death is very likely the single best invention of Life.\\nIt is Life's change agent.\\nIt clears out the old to make way for the new.\\nRight now the new is you, but someday not too long from now,\\nyou will gradually become the old and be cleared away.\"),\n",
       " Document(metadata={'source': 'https://www.youtube.com/watch?v=UF8uR6Z6KLc', 'chunk_index': 26, '_id': '7bf11a84f3c943ab99f720abcb21de8c', '_collection_name': \"Steve Jobs' 2005 Stanford Commencement Address\"}, page_content=\"told me that when they viewed the cells under a microscope\\nthe doctors started crying because it turned out to be\\na very rare form of pancreatic cancer that is curable with surgery.\\nI had the surgery and thankfully I'm fine now.\\nThis was the closest I've been to facing death,\\nand I hope its the closest I get for a few more decades.\\nHaving lived through it,\\nI can now say this to you with a bit more certainty than when\\ndeath was a useful but purely intellectual concept:\\nNo one wants to die.\"),\n",
       " Document(metadata={'source': 'https://www.youtube.com/watch?v=UF8uR6Z6KLc', 'chunk_index': 22, '_id': '380e2841aee04ed7ae7a3d3ce4c0ffd0', '_collection_name': \"Steve Jobs' 2005 Stanford Commencement Address\"}, page_content=\"I know I need to change something.\\nRemembering that I'll be dead soon is the most important\\ntool I've ever encountered to help me make the big choices in life.\\nBecause almost everything all external expectations, all pride,\\nall fear of embarrassment or failure -\\nthese things just fall away in the face of death,\\nleaving only what is truly important.\\nRemembering that you are going to die is the best\\nway I know to avoid the trap of thinking you have something to lose.\"),\n",
       " Document(metadata={'source': 'https://www.youtube.com/watch?v=UF8uR6Z6KLc', 'chunk_index': 21, '_id': 'ec23e055690141e39bc3fe23b83a5ff0', '_collection_name': \"Steve Jobs' 2005 Stanford Commencement Address\"}, page_content='\"If you live each day as if it was your last,\\nsomeday you\\'ll most certainly be right.\"\\nIt made an impression on me, and since then, for the past 33 years,\\nI have looked in the mirror every morning\\nand asked myself: \"If today were the last day of my life,\\nwould I want to do what I am about to do today?\"\\nAnd whenever the answer has been \"No\" for too many days in a row,\\nI know I need to change something.\\nRemembering that I\\'ll be dead soon is the most important'),\n",
       " Document(metadata={'source': 'https://www.youtube.com/watch?v=UF8uR6Z6KLc', 'chunk_index': 23, '_id': '29ec9b5446e84a8f855af41df35327c7', '_collection_name': \"Steve Jobs' 2005 Stanford Commencement Address\"}, page_content=\"Remembering that you are going to die is the best\\nway I know to avoid the trap of thinking you have something to lose.\\nYou are already naked. There is no reason not to follow your heart.\\nAbout a year ago I was diagnosed with cancer.\\nI had a scan at 7:30 in the morning,\\nand it clearly showed a tumor on my pancreas.\\nI didn't even know what a pancreas was.\\nThe doctors told me this was almost\\ncertainly a type of cancer that is incurable,\\nand that I should expect to live no longer than three to six months.\")]"
      ]
     },
     "execution_count": 9,
     "metadata": {},
     "output_type": "execute_result"
    }
   ],
   "source": [
    "vectorstore.similarity_search(\"why is death beautiful?\", k=5)"
   ]
  }
 ],
 "metadata": {
  "kernelspec": {
   "display_name": "intellitube",
   "language": "python",
   "name": "python3"
  },
  "language_info": {
   "codemirror_mode": {
    "name": "ipython",
    "version": 3
   },
   "file_extension": ".py",
   "mimetype": "text/x-python",
   "name": "python",
   "nbconvert_exporter": "python",
   "pygments_lexer": "ipython3",
   "version": "3.12.9"
  }
 },
 "nbformat": 4,
 "nbformat_minor": 5
}
