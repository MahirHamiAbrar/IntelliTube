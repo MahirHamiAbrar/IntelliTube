{
 "cells": [
  {
   "cell_type": "markdown",
   "id": "0d7c391b",
   "metadata": {},
   "source": [
    "# Self Query Retriever Test Notebook"
   ]
  },
  {
   "cell_type": "markdown",
   "id": "625d9d99",
   "metadata": {},
   "source": [
    "## Remove old database"
   ]
  },
  {
   "cell_type": "code",
   "execution_count": 1,
   "id": "a1b0ea4d",
   "metadata": {},
   "outputs": [],
   "source": [
    "import os\n",
    "import shutil\n",
    "from loguru import logger\n",
    "\n",
    "vs_path = \"test_data/qdrant_vector_store/test_vct_store\"\n",
    "vsc_path = os.path.join(vs_path, \"collections\")\n",
    "collection_name = \"Steve Jobs' 2005 Stanford Commencement Address\"\n",
    "\n",
    "for path in [vsc_path, vs_path]:\n",
    "    if os.path.exists(path):\n",
    "        logger.info(f\"Removing path: {path}\")\n",
    "        shutil.rmtree(path)"
   ]
  },
  {
   "cell_type": "markdown",
   "id": "576736c4",
   "metadata": {},
   "source": [
    "## Initialize embedding model"
   ]
  },
  {
   "cell_type": "code",
   "execution_count": 2,
   "id": "42217160",
   "metadata": {},
   "outputs": [],
   "source": [
    "from langchain_huggingface import HuggingFaceEmbeddings\n",
    "\n",
    "embedding_model_name: str = 'sentence-transformers/all-MiniLM-L12-v2'\n",
    "embedding_model = HuggingFaceEmbeddings(model=embedding_model_name)"
   ]
  },
  {
   "cell_type": "markdown",
   "id": "4f61a91b",
   "metadata": {},
   "source": [
    "## Create the vector store"
   ]
  },
  {
   "cell_type": "code",
   "execution_count": 3,
   "id": "288afb13",
   "metadata": {},
   "outputs": [
    {
     "name": "stderr",
     "output_type": "stream",
     "text": [
      "\u001b[32m2025-07-13 23:36:12.029\u001b[0m | \u001b[34m\u001b[1mDEBUG   \u001b[0m | \u001b[36mintellitube.vector_store\u001b[0m:\u001b[36minit_vector_store\u001b[0m:\u001b[36m120\u001b[0m - \u001b[34m\u001b[1mNew Qdrant Client Initialized.\u001b[0m\n",
      "\u001b[32m2025-07-13 23:36:12.038\u001b[0m | \u001b[34m\u001b[1mDEBUG   \u001b[0m | \u001b[36mintellitube.vector_store\u001b[0m:\u001b[36minit_vector_store\u001b[0m:\u001b[36m126\u001b[0m - \u001b[34m\u001b[1mNew Vector Store Created.\u001b[0m\n"
     ]
    }
   ],
   "source": [
    "from intellitube.vector_store import VectorStoreManager\n",
    "\n",
    "vdb = VectorStoreManager(\n",
    "    embedding_model=embedding_model,\n",
    "    path_on_disk=vs_path,\n",
    "    collection_path_on_disk=vsc_path,\n",
    "    collection_name=collection_name,\n",
    ")\n",
    "\n",
    "client = vdb.client\n",
    "vectorstore = vdb.vectorstore"
   ]
  },
  {
   "cell_type": "markdown",
   "id": "475eca6f",
   "metadata": {},
   "source": [
    "## Loading YouTube Video Transcript"
   ]
  },
  {
   "cell_type": "code",
   "execution_count": 4,
   "id": "8113104c",
   "metadata": {},
   "outputs": [
    {
     "name": "stderr",
     "output_type": "stream",
     "text": [
      "\u001b[32m2025-07-13 23:36:12.154\u001b[0m | \u001b[34m\u001b[1mDEBUG   \u001b[0m | \u001b[36mintellitube.utils.youtube\u001b[0m:\u001b[36mdownload_youtube_audio_or_transcript\u001b[0m:\u001b[36m133\u001b[0m - \u001b[34m\u001b[1mCache exists, validating cache...\u001b[0m\n",
      "\u001b[32m2025-07-13 23:36:12.154\u001b[0m | \u001b[34m\u001b[1mDEBUG   \u001b[0m | \u001b[36mintellitube.utils.youtube\u001b[0m:\u001b[36mdownload_youtube_audio_or_transcript\u001b[0m:\u001b[36m145\u001b[0m - \u001b[34m\u001b[1mCache contains the requested data. Using cache.\u001b[0m\n"
     ]
    },
    {
     "name": "stdout",
     "output_type": "stream",
     "text": [
      "type='text' transcript_path='test_data/cache/youtube/downloads/0290de54-13f5-4bbe-b3de-7b06f46a5f07.vtt' audio_path=None\n",
      "\n",
      "This program is brought to you by Stanford University.\n",
      "Please visit us at stanford.edu\n",
      "Thank You. I am honored to be with you today at your commencement\n",
      "from one of the finest universities in the world.\n",
      "Truth be told I never graduated from college\n",
      "and this is the closest I've ever gotten to a college graduation.\n",
      "Today I want to tell you three stories from my life. That's it.\n",
      "No big deal. Just three stories.\n",
      "The first story is about connecting the dots.\n",
      "I dropped out of Reed College after the fir\n"
     ]
    }
   ],
   "source": [
    "from intellitube.utils import (\n",
    "    YTContentData, download_youtube_audio_or_transcript, webvtt_2_str\n",
    ")\n",
    "\n",
    "video_url = \"https://www.youtube.com/watch?v=UF8uR6Z6KLc\"\n",
    "video_data: YTContentData = download_youtube_audio_or_transcript(video_url)\n",
    "vtt_str = webvtt_2_str(vtt_file_path=video_data.transcript_path)\n",
    "\n",
    "print(video_data, end='\\n\\n')\n",
    "print(vtt_str[:500])"
   ]
  },
  {
   "cell_type": "markdown",
   "id": "a305c16d",
   "metadata": {},
   "source": [
    "## Split texts & Add them to VDB"
   ]
  },
  {
   "cell_type": "markdown",
   "id": "9d517d3b",
   "metadata": {},
   "source": [
    "### 1. Split Texts + Create Metadatas"
   ]
  },
  {
   "cell_type": "code",
   "execution_count": 5,
   "id": "6e55803f",
   "metadata": {},
   "outputs": [],
   "source": [
    "from langchain_text_splitters import RecursiveCharacterTextSplitter\n",
    "\n",
    "text_splitter = RecursiveCharacterTextSplitter(\n",
    "    chunk_size=512,\n",
    "    chunk_overlap=256,\n",
    ")\n",
    "\n",
    "texts = text_splitter.split_text(vtt_str)\n",
    "metadatas = [\n",
    "    {\"source\": video_url, \"chunk_index\": i + 1}\n",
    "    for i in range(0, len(texts))\n",
    "]"
   ]
  },
  {
   "cell_type": "markdown",
   "id": "1093ce26",
   "metadata": {},
   "source": [
    "### 2. Add them to VDB"
   ]
  },
  {
   "cell_type": "code",
   "execution_count": 6,
   "id": "48b51225",
   "metadata": {},
   "outputs": [
    {
     "data": {
      "text/plain": [
       "['2f522f07e13c44bba4a0a547f796cbef',\n",
       " '0f885dd85fb948d6bb6252aef3f165a2',\n",
       " '30cb9fd1172b460ab62c1770fecabcc3',\n",
       " '220c7be2e5fc427d95c39cb6dfd0dfcb',\n",
       " '8645a6db70b64f9f905215285e449d90',\n",
       " '62b1e7ef3bdc4121ad7d0c9602fcf46f',\n",
       " '53dd2e8d6afb4aad8eb4095f1f21c3d9',\n",
       " '0dadd656405d48e089567741c52ed202',\n",
       " '7bfd3f5be7af4edb90b99d80065d8407',\n",
       " '10d1e7bd1ef74787a949c28c0eb8c9c5',\n",
       " 'e5f21689d96044c3a48c70a2a9a671c9',\n",
       " '7c5b7bb8692243328eb7df91644350aa',\n",
       " 'e127ce71e0744f74bcbeb68fc7af378d',\n",
       " '917bd957796448b789fb2bba9785f860',\n",
       " '022045a60f2147ee9017c31542d033e6',\n",
       " 'd5f4d67cd9c849cc91906596065f5e4f',\n",
       " 'd14fda8f46e54fd4a4ef6f11a9fce90d',\n",
       " '3c42c85cf72042779281217ed25dd77c',\n",
       " 'bd3596b1c07c4d18b343c8e937d52051',\n",
       " '881fe084a2c941a2ad196127459a1741',\n",
       " 'e56eb2c3f9ec4d53973766f1b2d0584a',\n",
       " 'ced44b2ba1d94964a317216a4b9d535a',\n",
       " 'efe085c42166492eb4f90b0ed71bbef5',\n",
       " '9c24b2c0541840cfb163a13950405485',\n",
       " '689c40e91c354cb9a73d6148190674de',\n",
       " '042eda2fe88045c5aa2fd54b40574874',\n",
       " 'b4b092bb1ece47c1865e815e18fa4c2d',\n",
       " '79e42f5bb6f0417882e605cb4cbd382e',\n",
       " '278f0bf2ebf143dca623392cb2c355d1',\n",
       " 'fd5aa549ad9a4cacb52daefea3c7aa7f',\n",
       " '7678adb033094f49815cc4a69bf504c5',\n",
       " '1fa97d1947a447c9a4ab20a2157df994',\n",
       " '9bf958ef176c4823a6120c3c67c835c3',\n",
       " '8d77544ea7ae46e3b1072f058fcd7dc5',\n",
       " '23b42da8d2ba45dda49ea7e2e6d0049e',\n",
       " '7c0d35358124416db18a7e61d9353ff3',\n",
       " '68784be08f6e49d6806bb7106788d393',\n",
       " 'e3e3092636ef42758030c8c545e3c403',\n",
       " '383aa258a55b4df0b334e1e82f18b0e5',\n",
       " '0ae722bda7ad4942b07580dd5824411d',\n",
       " '9e5e7b5274634280932a44ccc75a2e02',\n",
       " 'd26f8fdead4a4a3b810950fbb69b6c2d',\n",
       " 'b2166ffb71c148c0a2ff028fbd41a7e6',\n",
       " 'c29dc069883c40cb837a7cfd08cfb221',\n",
       " '2c3d78f7450746fd9297b511429db929',\n",
       " '3bfbc99491264d1395b8c66a0f8e2321',\n",
       " 'f96e14a79edb47e588a56617bdd743e3']"
      ]
     },
     "execution_count": 6,
     "metadata": {},
     "output_type": "execute_result"
    }
   ],
   "source": [
    "vectorstore.add_texts(texts=texts, metadatas=metadatas)"
   ]
  },
  {
   "cell_type": "markdown",
   "id": "7301d5d7",
   "metadata": {},
   "source": [
    "## Create the Retriever"
   ]
  },
  {
   "cell_type": "code",
   "execution_count": 7,
   "id": "1bdb5bd8",
   "metadata": {},
   "outputs": [],
   "source": [
    "retriever = vectorstore.as_retriever(\n",
    "    search_type=\"similarity_score_threshold\",\n",
    "    search_kwargs={'score_threshold': 0.6}\n",
    ")"
   ]
  },
  {
   "cell_type": "markdown",
   "id": "6c65d771",
   "metadata": {},
   "source": [
    "## Retrieve all the documents by metadata filtering\n",
    "Thanks to this [stackoverflow question!](https://stackoverflow.com/questions/78118020/qdrant-client-scroll-filter-does-not-work)"
   ]
  },
  {
   "cell_type": "code",
   "execution_count": 8,
   "id": "8a7eb8c4",
   "metadata": {},
   "outputs": [
    {
     "name": "stdout",
     "output_type": "stream",
     "text": [
      "47\n"
     ]
    }
   ],
   "source": [
    "from qdrant_client import models\n",
    "\n",
    "scroll_result = client.scroll(\n",
    "    collection_name=collection_name,\n",
    "    scroll_filter=models.Filter(\n",
    "        must=[\n",
    "            models.FieldCondition(key=\"metadata.source\", match=models.MatchValue(value=video_url)),\n",
    "            # models.FieldCondition(key=\"metadata.chunk_index\", match=models.MatchValue(value=2)),\n",
    "        ]\n",
    "    ),\n",
    "    limit=1000,\n",
    "    with_payload=True,\n",
    "    with_vectors=False\n",
    ")\n",
    "\n",
    "print(len(scroll_result[0]))\n",
    "# print(scroll_result[1])"
   ]
  },
  {
   "cell_type": "code",
   "execution_count": 9,
   "id": "0941dfd7",
   "metadata": {},
   "outputs": [
    {
     "data": {
      "text/plain": [
       "[Document(metadata={'source': 'https://www.youtube.com/watch?v=UF8uR6Z6KLc', 'chunk_index': 40, '_id': '0ae722bda7ad4942b07580dd5824411d', '_collection_name': \"Steve Jobs' 2005 Stanford Commencement Address\"}, page_content=\"I can now say this to you with a bit more certainty than when\\ndeath was a useful but purely intellectual concept:\\nNo one wants to die.\\nEven people who want to go to heaven don't want to die to get there.\\nAnd yet death is the destination we all share.\\nNo one has ever escaped it. And that is as it should be,\\nbecause Death is very likely the single best invention of Life.\\nIt is Life's change agent.\\nIt clears out the old to make way for the new.\\nRight now the new is you, but someday not too long from now,\"),\n",
       " Document(metadata={'source': 'https://www.youtube.com/watch?v=UF8uR6Z6KLc', 'chunk_index': 33, '_id': '9bf958ef176c4823a6120c3c67c835c3', '_collection_name': \"Steve Jobs' 2005 Stanford Commencement Address\"}, page_content=\"Remembering that I'll be dead soon is the most important\\ntool I've ever encountered to help me make the big choices in life.\\nBecause almost everything all external expectations, all pride,\\nall fear of embarrassment or failure -\\nthese things just fall away in the face of death,\\nleaving only what is truly important.\\nRemembering that you are going to die is the best\\nway I know to avoid the trap of thinking you have something to lose.\\nYou are already naked. There is no reason not to follow your heart.\"),\n",
       " Document(metadata={'source': 'https://www.youtube.com/watch?v=UF8uR6Z6KLc', 'chunk_index': 39, '_id': '383aa258a55b4df0b334e1e82f18b0e5', '_collection_name': \"Steve Jobs' 2005 Stanford Commencement Address\"}, page_content=\"a very rare form of pancreatic cancer that is curable with surgery.\\nI had the surgery and thankfully I'm fine now.\\nThis was the closest I've been to facing death,\\nand I hope its the closest I get for a few more decades.\\nHaving lived through it,\\nI can now say this to you with a bit more certainty than when\\ndeath was a useful but purely intellectual concept:\\nNo one wants to die.\\nEven people who want to go to heaven don't want to die to get there.\\nAnd yet death is the destination we all share.\"),\n",
       " Document(metadata={'source': 'https://www.youtube.com/watch?v=UF8uR6Z6KLc', 'chunk_index': 32, '_id': '1fa97d1947a447c9a4ab20a2157df994', '_collection_name': \"Steve Jobs' 2005 Stanford Commencement Address\"}, page_content='I have looked in the mirror every morning\\nand asked myself: \"If today were the last day of my life,\\nwould I want to do what I am about to do today?\"\\nAnd whenever the answer has been \"No\" for too many days in a row,\\nI know I need to change something.\\nRemembering that I\\'ll be dead soon is the most important\\ntool I\\'ve ever encountered to help me make the big choices in life.\\nBecause almost everything all external expectations, all pride,\\nall fear of embarrassment or failure -'),\n",
       " Document(metadata={'source': 'https://www.youtube.com/watch?v=UF8uR6Z6KLc', 'chunk_index': 41, '_id': '9e5e7b5274634280932a44ccc75a2e02', '_collection_name': \"Steve Jobs' 2005 Stanford Commencement Address\"}, page_content=\"No one has ever escaped it. And that is as it should be,\\nbecause Death is very likely the single best invention of Life.\\nIt is Life's change agent.\\nIt clears out the old to make way for the new.\\nRight now the new is you, but someday not too long from now,\\nyou will gradually become the old and be cleared away.\\nSorry to be so dramatic, but it is quite true.\\nYour time is limited, so don't waste it living someone else's life.\\nDon't be trapped by dogma which is living\")]"
      ]
     },
     "execution_count": 9,
     "metadata": {},
     "output_type": "execute_result"
    }
   ],
   "source": [
    "vectorstore.similarity_search(\"why is death beautiful?\", k=5)"
   ]
  }
 ],
 "metadata": {
  "kernelspec": {
   "display_name": "intellitube",
   "language": "python",
   "name": "python3"
  },
  "language_info": {
   "codemirror_mode": {
    "name": "ipython",
    "version": 3
   },
   "file_extension": ".py",
   "mimetype": "text/x-python",
   "name": "python",
   "nbconvert_exporter": "python",
   "pygments_lexer": "ipython3",
   "version": "3.12.9"
  }
 },
 "nbformat": 4,
 "nbformat_minor": 5
}
