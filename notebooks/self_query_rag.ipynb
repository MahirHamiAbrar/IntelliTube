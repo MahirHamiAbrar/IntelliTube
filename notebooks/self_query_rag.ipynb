{
 "cells": [
  {
   "cell_type": "markdown",
   "id": "0d7c391b",
   "metadata": {},
   "source": [
    "# Self Query Retriever Test Notebook"
   ]
  },
  {
   "cell_type": "code",
   "execution_count": 2,
   "id": "4f44ec8e",
   "metadata": {},
   "outputs": [],
   "source": [
    "import os\n",
    "import shutil\n",
    "from loguru import logger\n",
    "from intellitube.utils import ChatManager\n",
    "from intellitube.vector_store import VectorStoreManager"
   ]
  },
  {
   "cell_type": "markdown",
   "id": "2859edd7",
   "metadata": {},
   "source": [
    "## Create Vector Store"
   ]
  },
  {
   "cell_type": "code",
   "execution_count": 5,
   "id": "8f1d6500",
   "metadata": {},
   "outputs": [
    {
     "name": "stderr",
     "output_type": "stream",
     "text": [
      "\u001b[32m2025-07-12 13:25:38.599\u001b[0m | \u001b[1mINFO    \u001b[0m | \u001b[36m__main__\u001b[0m:\u001b[36m<module>\u001b[0m:\u001b[36m6\u001b[0m - \u001b[1mRemoving path: test_data/qdrant_vector_store/test_vct_store\u001b[0m\n"
     ]
    },
    {
     "ename": "OSError",
     "evalue": "[Errno 39] Directory not empty: 'test_data/qdrant_vector_store/test_vct_store/collection/text-document-rag'",
     "output_type": "error",
     "traceback": [
      "\u001b[31m---------------------------------------------------------------------------\u001b[39m",
      "\u001b[31mOSError\u001b[39m                                   Traceback (most recent call last)",
      "\u001b[36mCell\u001b[39m\u001b[36m \u001b[39m\u001b[32mIn[5]\u001b[39m\u001b[32m, line 7\u001b[39m\n\u001b[32m      5\u001b[39m     \u001b[38;5;28;01mif\u001b[39;00m os.path.exists(path):\n\u001b[32m      6\u001b[39m         logger.info(\u001b[33mf\u001b[39m\u001b[33m\"\u001b[39m\u001b[33mRemoving path: \u001b[39m\u001b[38;5;132;01m{\u001b[39;00mpath\u001b[38;5;132;01m}\u001b[39;00m\u001b[33m\"\u001b[39m)\n\u001b[32m----> \u001b[39m\u001b[32m7\u001b[39m         \u001b[43mshutil\u001b[49m\u001b[43m.\u001b[49m\u001b[43mrmtree\u001b[49m\u001b[43m(\u001b[49m\u001b[43mpath\u001b[49m\u001b[43m)\u001b[49m\n\u001b[32m      9\u001b[39m vectorstore = VectorStoreManager(\n\u001b[32m     10\u001b[39m     path_on_disk=vs_path,\n\u001b[32m     11\u001b[39m     collection_path_on_disk=vsc_path\n\u001b[32m     12\u001b[39m )\n",
      "\u001b[36mFile \u001b[39m\u001b[32m~/.local/share/uv/python/cpython-3.12.9-linux-x86_64-gnu/lib/python3.12/shutil.py:759\u001b[39m, in \u001b[36mrmtree\u001b[39m\u001b[34m(path, ignore_errors, onerror, onexc, dir_fd)\u001b[39m\n\u001b[32m    757\u001b[39m \u001b[38;5;28;01mtry\u001b[39;00m:\n\u001b[32m    758\u001b[39m     \u001b[38;5;28;01mwhile\u001b[39;00m stack:\n\u001b[32m--> \u001b[39m\u001b[32m759\u001b[39m         \u001b[43m_rmtree_safe_fd\u001b[49m\u001b[43m(\u001b[49m\u001b[43mstack\u001b[49m\u001b[43m,\u001b[49m\u001b[43m \u001b[49m\u001b[43monexc\u001b[49m\u001b[43m)\u001b[49m\n\u001b[32m    760\u001b[39m \u001b[38;5;28;01mfinally\u001b[39;00m:\n\u001b[32m    761\u001b[39m     \u001b[38;5;66;03m# Close any file descriptors still on the stack.\u001b[39;00m\n\u001b[32m    762\u001b[39m     \u001b[38;5;28;01mwhile\u001b[39;00m stack:\n",
      "\u001b[36mFile \u001b[39m\u001b[32m~/.local/share/uv/python/cpython-3.12.9-linux-x86_64-gnu/lib/python3.12/shutil.py:703\u001b[39m, in \u001b[36m_rmtree_safe_fd\u001b[39m\u001b[34m(stack, onexc)\u001b[39m\n\u001b[32m    701\u001b[39m \u001b[38;5;28;01mexcept\u001b[39;00m \u001b[38;5;167;01mOSError\u001b[39;00m \u001b[38;5;28;01mas\u001b[39;00m err:\n\u001b[32m    702\u001b[39m     err.filename = path\n\u001b[32m--> \u001b[39m\u001b[32m703\u001b[39m     \u001b[43monexc\u001b[49m\u001b[43m(\u001b[49m\u001b[43mfunc\u001b[49m\u001b[43m,\u001b[49m\u001b[43m \u001b[49m\u001b[43mpath\u001b[49m\u001b[43m,\u001b[49m\u001b[43m \u001b[49m\u001b[43merr\u001b[49m\u001b[43m)\u001b[49m\n",
      "\u001b[36mFile \u001b[39m\u001b[32m~/.local/share/uv/python/cpython-3.12.9-linux-x86_64-gnu/lib/python3.12/shutil.py:662\u001b[39m, in \u001b[36m_rmtree_safe_fd\u001b[39m\u001b[34m(stack, onexc)\u001b[39m\n\u001b[32m    660\u001b[39m     \u001b[38;5;28;01mreturn\u001b[39;00m\n\u001b[32m    661\u001b[39m \u001b[38;5;28;01mif\u001b[39;00m func \u001b[38;5;129;01mis\u001b[39;00m os.rmdir:\n\u001b[32m--> \u001b[39m\u001b[32m662\u001b[39m     \u001b[43mos\u001b[49m\u001b[43m.\u001b[49m\u001b[43mrmdir\u001b[49m\u001b[43m(\u001b[49m\u001b[43mname\u001b[49m\u001b[43m,\u001b[49m\u001b[43m \u001b[49m\u001b[43mdir_fd\u001b[49m\u001b[43m=\u001b[49m\u001b[43mdirfd\u001b[49m\u001b[43m)\u001b[49m\n\u001b[32m    663\u001b[39m     \u001b[38;5;28;01mreturn\u001b[39;00m\n\u001b[32m    665\u001b[39m \u001b[38;5;66;03m# Note: To guard against symlink races, we use the standard\u001b[39;00m\n\u001b[32m    666\u001b[39m \u001b[38;5;66;03m# lstat()/open()/fstat() trick.\u001b[39;00m\n",
      "\u001b[31mOSError\u001b[39m: [Errno 39] Directory not empty: 'test_data/qdrant_vector_store/test_vct_store/collection/text-document-rag'"
     ]
    }
   ],
   "source": [
    "vs_path = \"test_data/qdrant_vector_store/test_vct_store\"\n",
    "vsc_path = os.path.join(vs_path, \"collections\")\n",
    "\n",
    "for path in [vsc_path, vs_path]:\n",
    "    if os.path.exists(path):\n",
    "        logger.info(f\"Removing path: {path}\")\n",
    "        shutil.rmtree(path)\n",
    "\n",
    "vectorstore = VectorStoreManager(\n",
    "    path_on_disk=vs_path,\n",
    "    collection_path_on_disk=vsc_path\n",
    ")"
   ]
  }
 ],
 "metadata": {
  "kernelspec": {
   "display_name": "intellitube",
   "language": "python",
   "name": "python3"
  },
  "language_info": {
   "codemirror_mode": {
    "name": "ipython",
    "version": 3
   },
   "file_extension": ".py",
   "mimetype": "text/x-python",
   "name": "python",
   "nbconvert_exporter": "python",
   "pygments_lexer": "ipython3",
   "version": "3.12.9"
  }
 },
 "nbformat": 4,
 "nbformat_minor": 5
}
