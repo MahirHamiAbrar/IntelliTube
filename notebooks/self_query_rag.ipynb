{
 "cells": [
  {
   "cell_type": "markdown",
   "id": "0d7c391b",
   "metadata": {},
   "source": [
    "# Self Query Retriever Test Notebook"
   ]
  },
  {
   "cell_type": "code",
   "execution_count": 1,
   "id": "4f44ec8e",
   "metadata": {},
   "outputs": [],
   "source": [
    "import os\n",
    "import shutil\n",
    "from loguru import logger\n",
    "from intellitube.utils import ChatManager\n",
    "from intellitube.vector_store import VectorStoreManager"
   ]
  },
  {
   "cell_type": "markdown",
   "id": "2859edd7",
   "metadata": {},
   "source": [
    "## Create Vector Store"
   ]
  },
  {
   "cell_type": "code",
   "execution_count": 2,
   "id": "8f1d6500",
   "metadata": {},
   "outputs": [
    {
     "name": "stderr",
     "output_type": "stream",
     "text": [
      "\u001b[32m2025-07-12 16:40:13.514\u001b[0m | \u001b[1mINFO    \u001b[0m | \u001b[36m__main__\u001b[0m:\u001b[36m<module>\u001b[0m:\u001b[36m6\u001b[0m - \u001b[1mRemoving path: test_data/qdrant_vector_store/test_vct_store\u001b[0m\n",
      "\u001b[32m2025-07-12 16:40:24.033\u001b[0m | \u001b[34m\u001b[1mDEBUG   \u001b[0m | \u001b[36mintellitube.vector_store\u001b[0m:\u001b[36minit_vector_store\u001b[0m:\u001b[36m73\u001b[0m - \u001b[34m\u001b[1mCreaing Client...\u001b[0m\n",
      "\u001b[32m2025-07-12 16:40:24.245\u001b[0m | \u001b[34m\u001b[1mDEBUG   \u001b[0m | \u001b[36mintellitube.vector_store\u001b[0m:\u001b[36minit_vector_store\u001b[0m:\u001b[36m81\u001b[0m - \u001b[34m\u001b[1mCreaing vector store\u001b[0m\n"
     ]
    }
   ],
   "source": [
    "vs_path = \"test_data/qdrant_vector_store/test_vct_store\"\n",
    "vsc_path = os.path.join(vs_path, \"collections\")\n",
    "\n",
    "for path in [vsc_path, vs_path]:\n",
    "    if os.path.exists(path):\n",
    "        logger.info(f\"Removing path: {path}\")\n",
    "        shutil.rmtree(path)\n",
    "\n",
    "vectorstore = VectorStoreManager(\n",
    "    path_on_disk=vs_path,\n",
    "    collection_path_on_disk=vsc_path\n",
    ")"
   ]
  },
  {
   "cell_type": "markdown",
   "id": "68083f50",
   "metadata": {},
   "source": [
    "## Loading YouTube Video Transcript"
   ]
  },
  {
   "cell_type": "code",
   "execution_count": 3,
   "id": "4d4b6fb2",
   "metadata": {},
   "outputs": [
    {
     "name": "stderr",
     "output_type": "stream",
     "text": [
      "\u001b[32m2025-07-12 16:40:24.259\u001b[0m | \u001b[34m\u001b[1mDEBUG   \u001b[0m | \u001b[36mintellitube.utils.youtube\u001b[0m:\u001b[36mdownload_youtube_audio_or_transcript\u001b[0m:\u001b[36m133\u001b[0m - \u001b[34m\u001b[1mCache exists, validating cache...\u001b[0m\n",
      "\u001b[32m2025-07-12 16:40:24.260\u001b[0m | \u001b[34m\u001b[1mDEBUG   \u001b[0m | \u001b[36mintellitube.utils.youtube\u001b[0m:\u001b[36mdownload_youtube_audio_or_transcript\u001b[0m:\u001b[36m145\u001b[0m - \u001b[34m\u001b[1mCache contains the requested data. Using cache.\u001b[0m\n"
     ]
    },
    {
     "name": "stdout",
     "output_type": "stream",
     "text": [
      "type='text' transcript_path='test_data/cache/youtube/downloads/0290de54-13f5-4bbe-b3de-7b06f46a5f07.vtt' audio_path=None\n",
      "\n",
      "This program is brought to you by Stanford University.\n",
      "Please visit us at stanford.edu\n",
      "Thank You. I am honored to be with you today at your commencement\n",
      "from one of the finest universities in the world.\n",
      "Truth be told I never graduated from college\n",
      "and this is the closest I've ever gotten to a college graduation.\n",
      "Today I want to tell you three stories from my life. That's it.\n",
      "No big deal. Just three stories.\n",
      "The first story is about connecting the dots.\n",
      "I dropped out of Reed College after the fir\n"
     ]
    }
   ],
   "source": [
    "from intellitube.utils import (\n",
    "    YTContentData, download_youtube_audio_or_transcript, webvtt_2_str\n",
    ")\n",
    "\n",
    "# Steve Jobs' 2005 Stanford Commencement Address\n",
    "video_url = \"https://www.youtube.com/watch?v=UF8uR6Z6KLc\"\n",
    "video_data: YTContentData = download_youtube_audio_or_transcript(video_url)\n",
    "vtt_str = webvtt_2_str(vtt_file_path=video_data.transcript_path)\n",
    "\n",
    "print(video_data, end='\\n\\n')\n",
    "print(vtt_str[:500])"
   ]
  },
  {
   "cell_type": "markdown",
   "id": "cfb71594",
   "metadata": {},
   "source": [
    "## Adding to Vector Database"
   ]
  },
  {
   "cell_type": "markdown",
   "id": "09e8f210",
   "metadata": {},
   "source": [
    "### Split Text"
   ]
  },
  {
   "cell_type": "code",
   "execution_count": 4,
   "id": "4f8520e0",
   "metadata": {},
   "outputs": [
    {
     "name": "stdout",
     "output_type": "stream",
     "text": [
      "47\n",
      "--------------------\n",
      "\n",
      "This program is brought to you by Stanford University.\n",
      "Please visit us at stanford.edu\n",
      "Thank You. I am honored to be with you today at your commencement\n",
      "from one of the finest universities in the world.\n",
      "Truth be told I never graduated from college\n",
      "and this is the closest I've ever gotten to a college graduation.\n",
      "Today I want to tell you three stories from my life. That's it.\n",
      "No big deal. Just three stories.\n",
      "The first story is about connecting the dots.\n",
      "I dropped out of Reed College after the first 6 months,\n",
      "--------------------\n",
      "\n"
     ]
    }
   ],
   "source": [
    "from langchain_core.documents import Document\n",
    "from langchain_text_splitters import RecursiveCharacterTextSplitter\n",
    "\n",
    "text_splitter = RecursiveCharacterTextSplitter(\n",
    "    chunk_size=512,\n",
    "    chunk_overlap=256,\n",
    ")\n",
    "texts = text_splitter.split_text(vtt_str)\n",
    "\n",
    "print(len(texts), end=\"\\n\" + \"-\"*20 + \"\\n\\n\")\n",
    "print(texts[0], end=\"\\n\" + \"-\"*20 + \"\\n\\n\")\n",
    "\n",
    "documents = []\n",
    "for i, chunk in enumerate(texts):\n",
    "    document = Document(\n",
    "        page_content=chunk,\n",
    "        metadata={\n",
    "            \"source\": video_url,\n",
    "            \"chunk_index\": i + 1,\n",
    "        }\n",
    "    )\n",
    "    documents.append(document)"
   ]
  },
  {
   "cell_type": "code",
   "execution_count": 5,
   "id": "c9618cab",
   "metadata": {},
   "outputs": [
    {
     "name": "stderr",
     "output_type": "stream",
     "text": [
      "\u001b[32m2025-07-12 16:40:24.352\u001b[0m | \u001b[1mINFO    \u001b[0m | \u001b[36mintellitube.vector_store\u001b[0m:\u001b[36madd_documents\u001b[0m:\u001b[36m108\u001b[0m - \u001b[1mAdding documents...\u001b[0m\n"
     ]
    }
   ],
   "source": [
    "vectorstore.add_documents(\n",
    "    documents, split_text=False,\n",
    "    skip_if_collection_exists=True,\n",
    ")"
   ]
  },
  {
   "cell_type": "code",
   "execution_count": null,
   "id": "d91d231d",
   "metadata": {},
   "outputs": [],
   "source": [
    "# vectorstore.retriever."
   ]
  },
  {
   "cell_type": "markdown",
   "id": "e69c7922",
   "metadata": {},
   "source": [
    "## Creating the retriever"
   ]
  },
  {
   "cell_type": "code",
   "execution_count": 6,
   "id": "ce0da465",
   "metadata": {},
   "outputs": [],
   "source": [
    "retriever = vectorstore.vectorstore.as_retriever(\n",
    "    search_type=\"similarity_score_threshold\",\n",
    "    search_kwargs={'score_threshold': 0.6}\n",
    ")"
   ]
  }
 ],
 "metadata": {
  "kernelspec": {
   "display_name": "intellitube",
   "language": "python",
   "name": "python3"
  },
  "language_info": {
   "codemirror_mode": {
    "name": "ipython",
    "version": 3
   },
   "file_extension": ".py",
   "mimetype": "text/x-python",
   "name": "python",
   "nbconvert_exporter": "python",
   "pygments_lexer": "ipython3",
   "version": "3.12.9"
  }
 },
 "nbformat": 4,
 "nbformat_minor": 5
}
