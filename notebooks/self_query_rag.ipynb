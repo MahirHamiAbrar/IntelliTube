{
 "cells": [
  {
   "cell_type": "markdown",
   "id": "0d7c391b",
   "metadata": {},
   "source": [
    "# Self Query Retriever Test Notebook"
   ]
  },
  {
   "cell_type": "code",
   "execution_count": null,
   "id": "4f44ec8e",
   "metadata": {},
   "outputs": [],
   "source": [
    "import os\n",
    "import shutil\n",
    "from loguru import logger\n",
    "from intellitube.utils import ChatManager\n",
    "from intellitube.vector_store import VectorStoreManager"
   ]
  },
  {
   "cell_type": "markdown",
   "id": "2859edd7",
   "metadata": {},
   "source": [
    "## Create Vector Store"
   ]
  },
  {
   "cell_type": "code",
   "execution_count": null,
   "id": "8f1d6500",
   "metadata": {},
   "outputs": [],
   "source": [
    "vs_path = \"test_data/qdrant_vector_store/test_vct_store\"\n",
    "vsc_path = os.path.join(vs_path, \"collections\")\n",
    "collection_name = \"Steve Jobs' 2005 Stanford Commencement Address\"\n",
    "\n",
    "for path in [vsc_path, vs_path]:\n",
    "    if os.path.exists(path):\n",
    "        logger.info(f\"Removing path: {path}\")\n",
    "        shutil.rmtree(path)\n",
    "\n",
    "vectorstore = VectorStoreManager(\n",
    "    path_on_disk=vs_path,\n",
    "    collection_path_on_disk=vsc_path,\n",
    "    collection_name=collection_name,\n",
    ")"
   ]
  },
  {
   "cell_type": "markdown",
   "id": "68083f50",
   "metadata": {},
   "source": [
    "## Loading YouTube Video Transcript"
   ]
  },
  {
   "cell_type": "code",
   "execution_count": null,
   "id": "4d4b6fb2",
   "metadata": {},
   "outputs": [],
   "source": [
    "from intellitube.utils import (\n",
    "    YTContentData, download_youtube_audio_or_transcript, webvtt_2_str\n",
    ")\n",
    "\n",
    "video_url = \"https://www.youtube.com/watch?v=UF8uR6Z6KLc\"\n",
    "video_data: YTContentData = download_youtube_audio_or_transcript(video_url)\n",
    "vtt_str = webvtt_2_str(vtt_file_path=video_data.transcript_path)\n",
    "\n",
    "print(video_data, end='\\n\\n')\n",
    "print(vtt_str[:500])"
   ]
  },
  {
   "cell_type": "markdown",
   "id": "cfb71594",
   "metadata": {},
   "source": [
    "## Adding to Vector Database"
   ]
  },
  {
   "cell_type": "markdown",
   "id": "09e8f210",
   "metadata": {},
   "source": [
    "### Split Text"
   ]
  },
  {
   "cell_type": "code",
   "execution_count": null,
   "id": "4f8520e0",
   "metadata": {},
   "outputs": [],
   "source": [
    "from langchain_core.documents import Document\n",
    "from langchain_text_splitters import RecursiveCharacterTextSplitter\n",
    "\n",
    "text_splitter = RecursiveCharacterTextSplitter(\n",
    "    chunk_size=512,\n",
    "    chunk_overlap=256,\n",
    ")\n",
    "texts = text_splitter.split_text(vtt_str)\n",
    "\n",
    "print(len(texts), end=\"\\n\" + \"-\"*20 + \"\\n\\n\")\n",
    "print(texts[0], end=\"\\n\" + \"-\"*20 + \"\\n\\n\")\n",
    "\n",
    "documents = []\n",
    "for i, chunk in enumerate(texts):\n",
    "    document = Document(\n",
    "        page_content=chunk,\n",
    "        metadata={\n",
    "            \"source\": video_url,\n",
    "            \"chunk_index\": i + 1,\n",
    "        }\n",
    "    )\n",
    "    documents.append(document)"
   ]
  },
  {
   "cell_type": "code",
   "execution_count": null,
   "id": "c9618cab",
   "metadata": {},
   "outputs": [],
   "source": [
    "vectorstore.add_documents(\n",
    "    documents, split_text=False,\n",
    "    skip_if_collection_exists=True,\n",
    ")"
   ]
  },
  {
   "cell_type": "code",
   "execution_count": null,
   "id": "d91d231d",
   "metadata": {},
   "outputs": [],
   "source": [
    "# vectorstore.retriever."
   ]
  },
  {
   "cell_type": "markdown",
   "id": "e69c7922",
   "metadata": {},
   "source": [
    "## Creating the retriever"
   ]
  },
  {
   "cell_type": "code",
   "execution_count": null,
   "id": "ce0da465",
   "metadata": {},
   "outputs": [],
   "source": [
    "retriever = vectorstore.vectorstore.as_retriever(\n",
    "    search_type=\"similarity_score_threshold\",\n",
    "    search_kwargs={'score_threshold': 0.6}\n",
    ")"
   ]
  },
  {
   "cell_type": "markdown",
   "id": "8c5dc5bd",
   "metadata": {},
   "source": [
    "# Testing Qdrant Client"
   ]
  },
  {
   "cell_type": "markdown",
   "id": "e8f06c9a",
   "metadata": {},
   "source": [
    "### Remove old database"
   ]
  },
  {
   "cell_type": "code",
   "execution_count": 1,
   "id": "a1b0ea4d",
   "metadata": {},
   "outputs": [
    {
     "name": "stderr",
     "output_type": "stream",
     "text": [
      "\u001b[32m2025-07-13 13:02:52.741\u001b[0m | \u001b[1mINFO    \u001b[0m | \u001b[36m__main__\u001b[0m:\u001b[36m<module>\u001b[0m:\u001b[36m11\u001b[0m - \u001b[1mRemoving path: test_data/qdrant_vector_store/test_vct_store\u001b[0m\n"
     ]
    }
   ],
   "source": [
    "import os\n",
    "import shutil\n",
    "from loguru import logger\n",
    "\n",
    "vs_path = \"test_data/qdrant_vector_store/test_vct_store\"\n",
    "vsc_path = os.path.join(vs_path, \"collections\")\n",
    "collection_name = \"Steve Jobs' 2005 Stanford Commencement Address\"\n",
    "\n",
    "for path in [vsc_path, vs_path]:\n",
    "    if os.path.exists(path):\n",
    "        logger.info(f\"Removing path: {path}\")\n",
    "        shutil.rmtree(path)"
   ]
  },
  {
   "cell_type": "markdown",
   "id": "576736c4",
   "metadata": {},
   "source": [
    "### Initialize embedding model"
   ]
  },
  {
   "cell_type": "code",
   "execution_count": 2,
   "id": "42217160",
   "metadata": {},
   "outputs": [],
   "source": [
    "from langchain_huggingface import HuggingFaceEmbeddings\n",
    "\n",
    "embedding_model_name: str = 'sentence-transformers/all-MiniLM-L12-v2'\n",
    "embedding_model = HuggingFaceEmbeddings(model=embedding_model_name)"
   ]
  },
  {
   "cell_type": "markdown",
   "id": "475eca6f",
   "metadata": {},
   "source": [
    "### Load Texts"
   ]
  },
  {
   "cell_type": "code",
   "execution_count": 3,
   "id": "8113104c",
   "metadata": {},
   "outputs": [
    {
     "name": "stderr",
     "output_type": "stream",
     "text": [
      "\u001b[32m2025-07-13 13:03:03.270\u001b[0m | \u001b[34m\u001b[1mDEBUG   \u001b[0m | \u001b[36mintellitube.utils.youtube\u001b[0m:\u001b[36mdownload_youtube_audio_or_transcript\u001b[0m:\u001b[36m133\u001b[0m - \u001b[34m\u001b[1mCache exists, validating cache...\u001b[0m\n",
      "\u001b[32m2025-07-13 13:03:03.271\u001b[0m | \u001b[34m\u001b[1mDEBUG   \u001b[0m | \u001b[36mintellitube.utils.youtube\u001b[0m:\u001b[36mdownload_youtube_audio_or_transcript\u001b[0m:\u001b[36m145\u001b[0m - \u001b[34m\u001b[1mCache contains the requested data. Using cache.\u001b[0m\n"
     ]
    },
    {
     "name": "stdout",
     "output_type": "stream",
     "text": [
      "type='text' transcript_path='test_data/cache/youtube/downloads/0290de54-13f5-4bbe-b3de-7b06f46a5f07.vtt' audio_path=None\n",
      "\n",
      "This program is brought to you by Stanford University.\n",
      "Please visit us at stanford.edu\n",
      "Thank You. I am honored to be with you today at your commencement\n",
      "from one of the finest universities in the world.\n",
      "Truth be told I never graduated from college\n",
      "and this is the closest I've ever gotten to a college graduation.\n",
      "Today I want to tell you three stories from my life. That's it.\n",
      "No big deal. Just three stories.\n",
      "The first story is about connecting the dots.\n",
      "I dropped out of Reed College after the fir\n"
     ]
    }
   ],
   "source": [
    "from intellitube.utils import (\n",
    "    YTContentData, download_youtube_audio_or_transcript, webvtt_2_str\n",
    ")\n",
    "\n",
    "video_url = \"https://www.youtube.com/watch?v=UF8uR6Z6KLc\"\n",
    "video_data: YTContentData = download_youtube_audio_or_transcript(video_url)\n",
    "vtt_str = webvtt_2_str(vtt_file_path=video_data.transcript_path)\n",
    "\n",
    "print(video_data, end='\\n\\n')\n",
    "print(vtt_str[:500])"
   ]
  },
  {
   "cell_type": "markdown",
   "id": "a305c16d",
   "metadata": {},
   "source": [
    "### Split texts"
   ]
  },
  {
   "cell_type": "code",
   "execution_count": 4,
   "id": "6e55803f",
   "metadata": {},
   "outputs": [],
   "source": [
    "from langchain_text_splitters import RecursiveCharacterTextSplitter\n",
    "\n",
    "text_splitter = RecursiveCharacterTextSplitter(\n",
    "    chunk_size=512,\n",
    "    chunk_overlap=256,\n",
    ")\n",
    "\n",
    "texts = text_splitter.split_text(vtt_str)\n",
    "metadatas = [\n",
    "    {\"source\": video_url, \"chunk_index\": i + 1}\n",
    "    for i, chunk in enumerate(texts)\n",
    "]"
   ]
  },
  {
   "cell_type": "code",
   "execution_count": 5,
   "id": "4e4e4b69",
   "metadata": {},
   "outputs": [
    {
     "name": "stderr",
     "output_type": "stream",
     "text": [
      "/tmp/ipykernel_20888/3680126925.py:16: LangChainDeprecationWarning: The class `Qdrant` was deprecated in LangChain 0.0.37 and will be removed in 1.0. An updated version of the class exists in the :class:`~langchain-qdrant package and should be used instead. To use it run `pip install -U :class:`~langchain-qdrant` and import as `from :class:`~langchain_qdrant import Qdrant``.\n",
      "  vectorstore = Qdrant(\n"
     ]
    }
   ],
   "source": [
    "from qdrant_client import QdrantClient\n",
    "from langchain_community.vectorstores import Qdrant\n",
    "from qdrant_client.http.models import Distance, VectorParams\n",
    "\n",
    "client = QdrantClient(\n",
    "    path=vs_path\n",
    ")\n",
    "\n",
    "client.create_collection(\n",
    "    collection_name=collection_name,\n",
    "    vectors_config=VectorParams(\n",
    "        size=len(embedding_model.embed_query(\"hehe\")), distance=Distance.COSINE\n",
    "    )\n",
    ")\n",
    "\n",
    "vectorstore = Qdrant(\n",
    "    client=client,\n",
    "    collection_name=collection_name,\n",
    "    embeddings=embedding_model,\n",
    ")"
   ]
  },
  {
   "cell_type": "markdown",
   "id": "01a2098d",
   "metadata": {},
   "source": [
    "### Add texts to database"
   ]
  },
  {
   "cell_type": "code",
   "execution_count": 6,
   "id": "e2bfe266",
   "metadata": {},
   "outputs": [
    {
     "data": {
      "text/plain": [
       "['d1e7e7fc1fbf4a179245c12d2fff5d63',\n",
       " '449bce5111404bbca3f842f9ac3236eb',\n",
       " '855a68fe65024ba28205f7211b8a7990',\n",
       " 'd736384cc58044ef8c060410e5b582c1',\n",
       " '38e09e4e7b1c4438b15d844eeaf500be',\n",
       " 'f7950de356274c4caa45c5e8c2c1b1a4',\n",
       " '77a1ec95fa5b494cb866608f332ff062',\n",
       " 'ffbcbcbd669e43028c586b42c7f9523a',\n",
       " '45ce9702d7564e3b8fa759dded41362e',\n",
       " 'f42ef406c8dc486e8cae20fc91f94eaa',\n",
       " '58b12462247b44e7b1701eec2ef948cf',\n",
       " '0fbafabf8e2f4a84b585a2044e9f9b25',\n",
       " 'edec695b4e284373b897793f84a1a06d',\n",
       " 'ca86e49964ea48a88c0f36d8bdbcb038',\n",
       " 'c1497cb9151743b7b00425ad1152911b',\n",
       " '0c3bc9220e174beeaa0c7ec761be9168',\n",
       " '63e9372c519b46bb9b38f0741831af69',\n",
       " 'ab3f3e8810d149daa9cdaafc82ed69e1',\n",
       " '2f09eb4bf7a54c5bbad2f6d8206cc36d',\n",
       " '6344f43a8dae4d068a86975f9a2ab491',\n",
       " '8aae641daeb34e83983b886d294453af',\n",
       " 'a954a6eba52c4275ae2302eaf9dc9e6a',\n",
       " '3235027dce2b4dfd9d09de01ec5b5ee1',\n",
       " 'd4c4d9b71246459381751128f24a16be',\n",
       " '547e32080fc34efb9fc3c681e052e618',\n",
       " 'd94fd95b71f14a6d9ef02de37b852a53',\n",
       " 'b6c8412f8b6e4cf88f7b030723212693',\n",
       " 'f7fa0716da6944338deee23ebb50f43f',\n",
       " 'ed0f02799287444197e2081f8e8c0273',\n",
       " '79fcf72b1ba745e8bd80771096bb3e2c',\n",
       " 'cde1b046899e4a14b12915f2bf09c0ba',\n",
       " '70dc545c32f44dcc995e9a5c5460e9f9',\n",
       " 'e7fde5cccba346c99be793338df0265a',\n",
       " '92383a584fff474dad0b39fcd543834c',\n",
       " '03fa90b118854f97acb00f78dd341c0c',\n",
       " '835338575cd1430db831412991de92f2',\n",
       " 'c822ccac55804fefb1aa921c408b009b',\n",
       " 'e7bb0a2edf97487a9b3b0031f3a0694f',\n",
       " 'ba892fed3d554b08adaa5488d80a4f20',\n",
       " '01492c3a233d4b98bb23dea4bab89239',\n",
       " 'f2b1f567515949cea0efdd5488b74f65',\n",
       " '48f3c96464d34212967eb4813fb95807',\n",
       " 'c41a250027da4885a7ed8cea2cfc160d',\n",
       " '533255bda3c4463894635940dc4c3463',\n",
       " '1f3245e90e694bef8f7b8798f0c43b77',\n",
       " '04de511cb42a431fb8a03d11278f076f',\n",
       " '80f7231b81a94725a9e9ad59a932d85c']"
      ]
     },
     "execution_count": 6,
     "metadata": {},
     "output_type": "execute_result"
    }
   ],
   "source": [
    "vectorstore.add_texts(texts=texts, metadatas=metadatas)"
   ]
  },
  {
   "cell_type": "markdown",
   "id": "6c65d771",
   "metadata": {},
   "source": [
    "### Retrieve all the documents by metadata filtering\n",
    "Thanks to this [stackoverflow question!](https://stackoverflow.com/questions/78118020/qdrant-client-scroll-filter-does-not-work)"
   ]
  },
  {
   "cell_type": "code",
   "execution_count": null,
   "id": "8a7eb8c4",
   "metadata": {},
   "outputs": [
    {
     "name": "stdout",
     "output_type": "stream",
     "text": [
      "47\n"
     ]
    }
   ],
   "source": [
    "from qdrant_client import models\n",
    "\n",
    "scroll_result = vectorstore.client.scroll(\n",
    "    collection_name=collection_name,\n",
    "    scroll_filter=models.Filter(\n",
    "        must=[\n",
    "            models.FieldCondition(key=\"metadata.source\", match=models.MatchValue(value=video_url)),\n",
    "            # models.FieldCondition(key=\"metadata.chunk_index\", match=models.MatchValue(value=2)),\n",
    "        ]\n",
    "    ),\n",
    "    limit=1000,\n",
    "    with_payload=True,\n",
    "    with_vectors=False\n",
    ")\n",
    "\n",
    "print(len(scroll_result[0]))\n",
    "# print(scroll_result[1])"
   ]
  },
  {
   "cell_type": "code",
   "execution_count": 10,
   "id": "0941dfd7",
   "metadata": {},
   "outputs": [
    {
     "data": {
      "text/plain": [
       "[Document(metadata={'source': 'https://www.youtube.com/watch?v=UF8uR6Z6KLc', 'chunk_index': 40, '_id': '01492c3a233d4b98bb23dea4bab89239', '_collection_name': \"Steve Jobs' 2005 Stanford Commencement Address\"}, page_content=\"I can now say this to you with a bit more certainty than when\\ndeath was a useful but purely intellectual concept:\\nNo one wants to die.\\nEven people who want to go to heaven don't want to die to get there.\\nAnd yet death is the destination we all share.\\nNo one has ever escaped it. And that is as it should be,\\nbecause Death is very likely the single best invention of Life.\\nIt is Life's change agent.\\nIt clears out the old to make way for the new.\\nRight now the new is you, but someday not too long from now,\"),\n",
       " Document(metadata={'source': 'https://www.youtube.com/watch?v=UF8uR6Z6KLc', 'chunk_index': 33, '_id': 'e7fde5cccba346c99be793338df0265a', '_collection_name': \"Steve Jobs' 2005 Stanford Commencement Address\"}, page_content=\"Remembering that I'll be dead soon is the most important\\ntool I've ever encountered to help me make the big choices in life.\\nBecause almost everything all external expectations, all pride,\\nall fear of embarrassment or failure -\\nthese things just fall away in the face of death,\\nleaving only what is truly important.\\nRemembering that you are going to die is the best\\nway I know to avoid the trap of thinking you have something to lose.\\nYou are already naked. There is no reason not to follow your heart.\"),\n",
       " Document(metadata={'source': 'https://www.youtube.com/watch?v=UF8uR6Z6KLc', 'chunk_index': 39, '_id': 'ba892fed3d554b08adaa5488d80a4f20', '_collection_name': \"Steve Jobs' 2005 Stanford Commencement Address\"}, page_content=\"a very rare form of pancreatic cancer that is curable with surgery.\\nI had the surgery and thankfully I'm fine now.\\nThis was the closest I've been to facing death,\\nand I hope its the closest I get for a few more decades.\\nHaving lived through it,\\nI can now say this to you with a bit more certainty than when\\ndeath was a useful but purely intellectual concept:\\nNo one wants to die.\\nEven people who want to go to heaven don't want to die to get there.\\nAnd yet death is the destination we all share.\"),\n",
       " Document(metadata={'source': 'https://www.youtube.com/watch?v=UF8uR6Z6KLc', 'chunk_index': 32, '_id': '70dc545c32f44dcc995e9a5c5460e9f9', '_collection_name': \"Steve Jobs' 2005 Stanford Commencement Address\"}, page_content='I have looked in the mirror every morning\\nand asked myself: \"If today were the last day of my life,\\nwould I want to do what I am about to do today?\"\\nAnd whenever the answer has been \"No\" for too many days in a row,\\nI know I need to change something.\\nRemembering that I\\'ll be dead soon is the most important\\ntool I\\'ve ever encountered to help me make the big choices in life.\\nBecause almost everything all external expectations, all pride,\\nall fear of embarrassment or failure -'),\n",
       " Document(metadata={'source': 'https://www.youtube.com/watch?v=UF8uR6Z6KLc', 'chunk_index': 41, '_id': 'f2b1f567515949cea0efdd5488b74f65', '_collection_name': \"Steve Jobs' 2005 Stanford Commencement Address\"}, page_content=\"No one has ever escaped it. And that is as it should be,\\nbecause Death is very likely the single best invention of Life.\\nIt is Life's change agent.\\nIt clears out the old to make way for the new.\\nRight now the new is you, but someday not too long from now,\\nyou will gradually become the old and be cleared away.\\nSorry to be so dramatic, but it is quite true.\\nYour time is limited, so don't waste it living someone else's life.\\nDon't be trapped by dogma which is living\")]"
      ]
     },
     "execution_count": 10,
     "metadata": {},
     "output_type": "execute_result"
    }
   ],
   "source": [
    "vectorstore.similarity_search(\"why is death beautiful?\", k=5)"
   ]
  }
 ],
 "metadata": {
  "kernelspec": {
   "display_name": "intellitube",
   "language": "python",
   "name": "python3"
  },
  "language_info": {
   "codemirror_mode": {
    "name": "ipython",
    "version": 3
   },
   "file_extension": ".py",
   "mimetype": "text/x-python",
   "name": "python",
   "nbconvert_exporter": "python",
   "pygments_lexer": "ipython3",
   "version": "3.12.9"
  }
 },
 "nbformat": 4,
 "nbformat_minor": 5
}
