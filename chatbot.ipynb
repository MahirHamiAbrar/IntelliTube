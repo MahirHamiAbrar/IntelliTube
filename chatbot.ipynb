{
 "cells": [
  {
   "cell_type": "markdown",
   "id": "637ddd60",
   "metadata": {},
   "source": [
    "## Initialize a new Chat"
   ]
  },
  {
   "cell_type": "code",
   "execution_count": 1,
   "id": "27e6456a",
   "metadata": {},
   "outputs": [
    {
     "ename": "ModuleNotFoundError",
     "evalue": "No module named 'loguru'",
     "output_type": "error",
     "traceback": [
      "\u001b[31m---------------------------------------------------------------------------\u001b[39m",
      "\u001b[31mModuleNotFoundError\u001b[39m                       Traceback (most recent call last)",
      "\u001b[36mCell\u001b[39m\u001b[36m \u001b[39m\u001b[32mIn[1]\u001b[39m\u001b[32m, line 1\u001b[39m\n\u001b[32m----> \u001b[39m\u001b[32m1\u001b[39m \u001b[38;5;28;01mfrom\u001b[39;00m\u001b[38;5;250m \u001b[39m\u001b[34;01mintellitube\u001b[39;00m\u001b[34;01m.\u001b[39;00m\u001b[34;01mutils\u001b[39;00m\u001b[38;5;250m \u001b[39m\u001b[38;5;28;01mimport\u001b[39;00m ChatManager\n\u001b[32m      2\u001b[39m chat: ChatManager = ChatManager.new_chat()\n\u001b[32m      3\u001b[39m \u001b[38;5;28mprint\u001b[39m(\u001b[33mf\u001b[39m\u001b[33m\"\u001b[39m\u001b[33mChat ID:\u001b[39m\u001b[33m\"\u001b[39m, chat.chat_id)\n",
      "\u001b[36mFile \u001b[39m\u001b[32m~/Apps/miniconda3/envs/pyenv/lib/python3.13/intellitube/utils/__init__.py:2\u001b[39m\n\u001b[32m      1\u001b[39m \u001b[38;5;28;01mfrom\u001b[39;00m\u001b[38;5;250m \u001b[39m\u001b[34;01m.\u001b[39;00m\u001b[34;01mcacher\u001b[39;00m\u001b[38;5;250m \u001b[39m\u001b[38;5;28;01mimport\u001b[39;00m Cacher\n\u001b[32m----> \u001b[39m\u001b[32m2\u001b[39m \u001b[38;5;28;01mfrom\u001b[39;00m\u001b[38;5;250m \u001b[39m\u001b[34;01m.\u001b[39;00m\u001b[34;01myoutube\u001b[39;00m\u001b[38;5;250m \u001b[39m\u001b[38;5;28;01mimport\u001b[39;00m (\n\u001b[32m      3\u001b[39m     YTContentData,\n\u001b[32m      4\u001b[39m     search_youtube,\n\u001b[32m      5\u001b[39m     download_youtube_content,\n\u001b[32m      6\u001b[39m     download_youtube_audio_or_transcript,\n\u001b[32m      7\u001b[39m )\n\u001b[32m      8\u001b[39m \u001b[38;5;28;01mfrom\u001b[39;00m\u001b[38;5;250m \u001b[39m\u001b[34;01m.\u001b[39;00m\u001b[34;01mvideo_transcript\u001b[39;00m\u001b[38;5;250m \u001b[39m\u001b[38;5;28;01mimport\u001b[39;00m (\n\u001b[32m      9\u001b[39m     webvtt_2_json,\n\u001b[32m     10\u001b[39m     webvtt_2_langchain_documents,\n\u001b[32m     11\u001b[39m     webvtt_2_str,\n\u001b[32m     12\u001b[39m )\n\u001b[32m     13\u001b[39m \u001b[38;5;28;01mfrom\u001b[39;00m\u001b[38;5;250m \u001b[39m\u001b[34;01m.\u001b[39;00m\u001b[34;01mchat_manager\u001b[39;00m\u001b[38;5;250m \u001b[39m\u001b[38;5;28;01mimport\u001b[39;00m (\n\u001b[32m     14\u001b[39m     ChatInfo,\n\u001b[32m     15\u001b[39m     Chat,\n\u001b[32m     16\u001b[39m     ChatManager,\n\u001b[32m     17\u001b[39m )\n",
      "\u001b[36mFile \u001b[39m\u001b[32m~/Apps/miniconda3/envs/pyenv/lib/python3.13/intellitube/utils/youtube.py:7\u001b[39m\n\u001b[32m      4\u001b[39m \u001b[38;5;28;01mimport\u001b[39;00m\u001b[38;5;250m \u001b[39m\u001b[34;01mtempfile\u001b[39;00m\n\u001b[32m      5\u001b[39m \u001b[38;5;28;01mfrom\u001b[39;00m\u001b[38;5;250m \u001b[39m\u001b[34;01mpathlib\u001b[39;00m\u001b[38;5;250m \u001b[39m\u001b[38;5;28;01mimport\u001b[39;00m Path\n\u001b[32m----> \u001b[39m\u001b[32m7\u001b[39m \u001b[38;5;28;01mfrom\u001b[39;00m\u001b[38;5;250m \u001b[39m\u001b[34;01mloguru\u001b[39;00m\u001b[38;5;250m \u001b[39m\u001b[38;5;28;01mimport\u001b[39;00m logger\n\u001b[32m      8\u001b[39m \u001b[38;5;28;01mfrom\u001b[39;00m\u001b[38;5;250m \u001b[39m\u001b[34;01mtyping\u001b[39;00m\u001b[38;5;250m \u001b[39m\u001b[38;5;28;01mimport\u001b[39;00m Any, Dict, List, Literal, Union, Optional\n\u001b[32m     10\u001b[39m \u001b[38;5;28;01mfrom\u001b[39;00m\u001b[38;5;250m \u001b[39m\u001b[34;01myt_dlp\u001b[39;00m\u001b[38;5;250m \u001b[39m\u001b[38;5;28;01mimport\u001b[39;00m YoutubeDL\n",
      "\u001b[31mModuleNotFoundError\u001b[39m: No module named 'loguru'"
     ]
    }
   ],
   "source": [
    "from intellitube.utils import ChatManager\n",
    "chat: ChatManager = ChatManager.new_chat()\n",
    "print(f\"Chat ID:\", chat.chat_id)\n",
    "chat.remove_unlisted_chats()"
   ]
  },
  {
   "cell_type": "markdown",
   "id": "7d5e8681",
   "metadata": {},
   "source": [
    "## Initialize the RAG System\n",
    "Using `TextDocumentRAG()` from `intellitube.rag` module automatically initializes `Qdrant` client as Vector Database."
   ]
  },
  {
   "cell_type": "code",
   "execution_count": 2,
   "id": "cdcf9dd6",
   "metadata": {},
   "outputs": [
    {
     "name": "stderr",
     "output_type": "stream",
     "text": [
      "\u001b[32m2025-07-11 12:37:30.126\u001b[0m | \u001b[34m\u001b[1mDEBUG   \u001b[0m | \u001b[36mintellitube.rag\u001b[0m:\u001b[36minit_vector_store\u001b[0m:\u001b[36m66\u001b[0m - \u001b[34m\u001b[1mCreaing Client...\u001b[0m\n",
      "\u001b[32m2025-07-11 12:37:30.138\u001b[0m | \u001b[34m\u001b[1mDEBUG   \u001b[0m | \u001b[36mintellitube.rag\u001b[0m:\u001b[36minit_vector_store\u001b[0m:\u001b[36m73\u001b[0m - \u001b[34m\u001b[1mCreaing vector store\u001b[0m\n"
     ]
    }
   ],
   "source": [
    "import os\n",
    "from typing import List\n",
    "from intellitube.rag import TextDocumentRAG\n",
    "from langchain_core.documents import Document\n",
    "\n",
    "document_rag = TextDocumentRAG(\n",
    "    path_on_disk=chat.chat_dirpath,\n",
    "    collection_path_on_disk=os.path.join(chat.chat_dirpath, \"collection\"),\n",
    "    collection_name=chat.chat_id,\n",
    ")\n",
    "\n",
    "def add_to_vdb(docuemnts: List[Document]) -> None:\n",
    "    # convert to a list of document(s) if not already!\n",
    "    if type(docuemnts) == Document:\n",
    "        docuemnts = [docuemnts]\n",
    "    \n",
    "    document_rag.add_documents(\n",
    "        docuemnts, split_text=True,\n",
    "        split_config={\n",
    "            \"chunk_size\": 512,\n",
    "            \"chunk_overlap\": 128\n",
    "        },\n",
    "        skip_if_collection_exists=True,\n",
    "    )"
   ]
  },
  {
   "cell_type": "markdown",
   "id": "9b0781f4",
   "metadata": {},
   "source": [
    "## Create Document Loader Tools"
   ]
  },
  {
   "cell_type": "code",
   "execution_count": 3,
   "id": "c8ebb0df",
   "metadata": {},
   "outputs": [],
   "source": [
    "from langchain.tools import tool\n",
    "from loguru import logger"
   ]
  },
  {
   "cell_type": "markdown",
   "id": "3e792db4",
   "metadata": {},
   "source": [
    "### 1. Add YouTube Videos to the Vector Database"
   ]
  },
  {
   "cell_type": "code",
   "execution_count": null,
   "id": "bd262d70",
   "metadata": {},
   "outputs": [],
   "source": [
    "from intellitube.utils import (\n",
    "    YTContentData,\n",
    "    webvtt_2_str,\n",
    "    download_youtube_audio_or_transcript,\n",
    ")\n",
    "\n",
    "test_url = \"https://www.youtube.com/watch?v=W3I3kAg2J7w&t=231s\"\n",
    "\n",
    "def load_youtube_transcript(youtube_url: str) -> bool:\n",
    "    \"\"\"Load the given YouTube video's transcript to the vector database.\n",
    "    It is required to answer user-queries based on the the Transcript context.\"\"\"\n",
    "    try:\n",
    "        logger.debug(\"Loading Youtube Transcript...\")\n",
    "        \n",
    "        # download the youtube transcript (or audio if transcript not available)\n",
    "        yt_video_data: YTContentData = download_youtube_audio_or_transcript(\n",
    "            video_url=youtube_url,\n",
    "        )\n",
    "\n",
    "        # convert the WEBVTT format trancript to a plain text string\n",
    "        vtt_str = webvtt_2_str(vtt_file_path=yt_video_data.transcript_path)\n",
    "        \n",
    "        logger.debug(vtt_str[:100])    # print first 100 characters\n",
    "\n",
    "        # add the transcript-string to the vector database\n",
    "        add_to_vdb(Document(vtt_str))\n",
    "    except Exception as e:\n",
    "        logger.error(str(e))\n",
    "        return False\n",
    "    return True"
   ]
  },
  {
   "cell_type": "markdown",
   "id": "2ac44794",
   "metadata": {},
   "source": [
    "### 2. Add PDF/Text Documents to the Vector Dataabse"
   ]
  },
  {
   "cell_type": "code",
   "execution_count": 5,
   "id": "c33961ec",
   "metadata": {},
   "outputs": [],
   "source": [
    "import os\n",
    "from langchain_community.document_loaders import PyPDFLoader\n",
    "\n",
    "def load_document(document_path: str) -> bool:\n",
    "    \"\"\"Load the given Document's content to the vector database.\n",
    "    It is required to answer user-queries based on the the Document context.\"\"\"\n",
    "\n",
    "    try:\n",
    "        logger.debug(\"Loading Document...\")\n",
    "        \n",
    "        ext = os.path.splitext(document_path)[1][1:].lower()\n",
    "        documents: List[Document]\n",
    "\n",
    "        if ext == 'pdf':\n",
    "            documents = PyPDFLoader(document_path).load()\n",
    "        elif ext in ['txt', 'py']:\n",
    "            with open(document_path, 'r') as file:\n",
    "                documents = [Document(\n",
    "                    page_content=file.read(),\n",
    "                    metadata={ \"source\": document_path }\n",
    "                )]\n",
    "        else:\n",
    "            return False\n",
    "        \n",
    "        add_to_vdb(documents)\n",
    "    except Exception as e:\n",
    "        logger.error(str(e))\n",
    "        return False\n",
    "    return True\n",
    "        "
   ]
  },
  {
   "cell_type": "markdown",
   "id": "6af8cdd0",
   "metadata": {},
   "source": [
    "### 3. Add WebPages as Documents to the Vector Database"
   ]
  },
  {
   "cell_type": "code",
   "execution_count": 6,
   "id": "d08fccbd",
   "metadata": {},
   "outputs": [
    {
     "name": "stderr",
     "output_type": "stream",
     "text": [
      "USER_AGENT environment variable not set, consider setting it to identify your requests.\n"
     ]
    }
   ],
   "source": [
    "from langchain_community.document_loaders import WebBaseLoader\n",
    "\n",
    "def load_webpage(webpage_url: str) -> bool:\n",
    "    \"\"\"Load the given WebSite's content to the vector database.\n",
    "    It is required to answer user-queries based on the the WebPage's context.\"\"\"\n",
    "\n",
    "    try:\n",
    "        add_to_vdb(WebBaseLoader(webpage_url).load())\n",
    "        logger.debug(\"Loading Webpage...\")\n",
    "    except Exception as e:\n",
    "        logger.error(str(e))\n",
    "        return False\n",
    "    return True\n",
    "    "
   ]
  },
  {
   "cell_type": "markdown",
   "id": "f2ac5275",
   "metadata": {},
   "source": [
    "#### Document Loader Function Dictionary"
   ]
  },
  {
   "cell_type": "code",
   "execution_count": 7,
   "id": "1e63e161",
   "metadata": {},
   "outputs": [],
   "source": [
    "document_loader_functions = {\n",
    "    \"document\": load_document,\n",
    "    \"youtube_video\": load_youtube_transcript,\n",
    "    \"website\": load_webpage\n",
    "}"
   ]
  },
  {
   "cell_type": "markdown",
   "id": "70b0d559",
   "metadata": {},
   "source": [
    "## Choose an LLM"
   ]
  },
  {
   "cell_type": "code",
   "execution_count": 1,
   "id": "2c4a67d3",
   "metadata": {},
   "outputs": [],
   "source": [
    "from typing import Literal, Optional\n",
    "# from langchain.chat_models import init_chat_model\n",
    "from langchain_core.language_models import BaseChatModel\n",
    "\n",
    "from dotenv import load_dotenv\n",
    "load_dotenv()\n",
    "\n",
    "def init_llm(\n",
    "    model_provider: Literal['openai', 'groq', 'nvidia', 'google', 'ollama'],\n",
    "    model_name: Optional[str] = None,\n",
    "    temperature: float = 0.0,\n",
    ") -> BaseChatModel:\n",
    "    if model_provider == 'openai':\n",
    "        from langchain_openai import ChatOpenAI\n",
    "        return ChatOpenAI(model=model_name or \"gpt-4o-mini\", temperature=temperature)\n",
    "    elif model_provider == 'groq':\n",
    "        from langchain_groq import ChatGroq\n",
    "        return ChatGroq(model=model_name or \"llama-3.3-70b-versatile\", temperature=temperature)\n",
    "    elif model_provider == 'nvidia':\n",
    "        from langchain_nvidia_ai_endpoints import ChatNVIDIA\n",
    "        return ChatNVIDIA(model=model_name or \"mistralai/mistral-small-24b-instruct\", temperature=temperature)\n",
    "        # return ChatNVIDIA(model=model_name or \"nvidia/llama-3.1-nemotron-51b-instruct\", temperature=temperature)\n",
    "    elif model_provider == 'google':\n",
    "        from langchain_google_genai import ChatGoogleGenerativeAI\n",
    "        return ChatGoogleGenerativeAI(model=model_name or \"gemini-2.0-flash\", temperature=temperature, api_key=None)\n",
    "    elif model_provider == 'ollama':\n",
    "        from langchain_ollama import ChatOllama\n",
    "        # return ChatOllama(model=model_name or \"granite3.3:8b\", temperature=temperature)\n",
    "        return ChatOllama(model=model_name or \"llama3.2:3b\", temperature=temperature)\n",
    "    \n",
    "    raise ValueError(f\"Invalid model_provider: {model_provider}\")"
   ]
  },
  {
   "cell_type": "markdown",
   "id": "84f27bf8",
   "metadata": {},
   "source": [
    "#### Test the LLM"
   ]
  },
  {
   "cell_type": "code",
   "execution_count": 2,
   "id": "1677ec9f",
   "metadata": {},
   "outputs": [
    {
     "ename": "DefaultCredentialsError",
     "evalue": "Your default credentials were not found. To set up Application Default Credentials, see https://cloud.google.com/docs/authentication/external/set-up-adc for more information.",
     "output_type": "error",
     "traceback": [
      "\u001b[31m---------------------------------------------------------------------------\u001b[39m",
      "\u001b[31mDefaultCredentialsError\u001b[39m                   Traceback (most recent call last)",
      "\u001b[36mCell\u001b[39m\u001b[36m \u001b[39m\u001b[32mIn[2]\u001b[39m\u001b[32m, line 2\u001b[39m\n\u001b[32m      1\u001b[39m TEST_LLM = \u001b[38;5;28;01mFalse\u001b[39;00m\n\u001b[32m----> \u001b[39m\u001b[32m2\u001b[39m llm = \u001b[43minit_llm\u001b[49m\u001b[43m(\u001b[49m\u001b[43mmodel_provider\u001b[49m\u001b[43m=\u001b[49m\u001b[33;43m'\u001b[39;49m\u001b[33;43mgoogle\u001b[39;49m\u001b[33;43m'\u001b[39;49m\u001b[43m)\u001b[49m\n\u001b[32m      3\u001b[39m \u001b[38;5;66;03m# llm = select_llm(model_provider='groq')\u001b[39;00m\n\u001b[32m      4\u001b[39m \u001b[38;5;66;03m# llm = select_llm(model_provider='ollama')\u001b[39;00m\n\u001b[32m      6\u001b[39m \u001b[38;5;28;01mif\u001b[39;00m TEST_LLM:\n",
      "\u001b[36mCell\u001b[39m\u001b[36m \u001b[39m\u001b[32mIn[1]\u001b[39m\u001b[32m, line 25\u001b[39m, in \u001b[36minit_llm\u001b[39m\u001b[34m(model_provider, model_name, temperature)\u001b[39m\n\u001b[32m     23\u001b[39m \u001b[38;5;28;01melif\u001b[39;00m model_provider == \u001b[33m'\u001b[39m\u001b[33mgoogle\u001b[39m\u001b[33m'\u001b[39m:\n\u001b[32m     24\u001b[39m     \u001b[38;5;28;01mfrom\u001b[39;00m\u001b[38;5;250m \u001b[39m\u001b[34;01mlangchain_google_genai\u001b[39;00m\u001b[38;5;250m \u001b[39m\u001b[38;5;28;01mimport\u001b[39;00m ChatGoogleGenerativeAI\n\u001b[32m---> \u001b[39m\u001b[32m25\u001b[39m     \u001b[38;5;28;01mreturn\u001b[39;00m \u001b[43mChatGoogleGenerativeAI\u001b[49m\u001b[43m(\u001b[49m\u001b[43mmodel\u001b[49m\u001b[43m=\u001b[49m\u001b[43mmodel_name\u001b[49m\u001b[43m \u001b[49m\u001b[38;5;129;43;01mor\u001b[39;49;00m\u001b[43m \u001b[49m\u001b[33;43m\"\u001b[39;49m\u001b[33;43mgemini-2.0-flash\u001b[39;49m\u001b[33;43m\"\u001b[39;49m\u001b[43m,\u001b[49m\u001b[43m \u001b[49m\u001b[43mtemperature\u001b[49m\u001b[43m=\u001b[49m\u001b[43mtemperature\u001b[49m\u001b[43m,\u001b[49m\u001b[43m \u001b[49m\u001b[43mapi_key\u001b[49m\u001b[43m=\u001b[49m\u001b[38;5;28;43;01mNone\u001b[39;49;00m\u001b[43m)\u001b[49m\n\u001b[32m     26\u001b[39m \u001b[38;5;28;01melif\u001b[39;00m model_provider == \u001b[33m'\u001b[39m\u001b[33mollama\u001b[39m\u001b[33m'\u001b[39m:\n\u001b[32m     27\u001b[39m     \u001b[38;5;28;01mfrom\u001b[39;00m\u001b[38;5;250m \u001b[39m\u001b[34;01mlangchain_ollama\u001b[39;00m\u001b[38;5;250m \u001b[39m\u001b[38;5;28;01mimport\u001b[39;00m ChatOllama\n",
      "\u001b[36mFile \u001b[39m\u001b[32m/WindowsDrive/DriftResearchProject/intellitube/.venv/lib/python3.12/site-packages/langchain_google_genai/chat_models.py:1179\u001b[39m, in \u001b[36mChatGoogleGenerativeAI.__init__\u001b[39m\u001b[34m(self, **kwargs)\u001b[39m\n\u001b[32m   1172\u001b[39m         suggestion = (\n\u001b[32m   1173\u001b[39m             \u001b[33mf\u001b[39m\u001b[33m\"\u001b[39m\u001b[33m Did you mean: \u001b[39m\u001b[33m'\u001b[39m\u001b[38;5;132;01m{\u001b[39;00msuggestions[\u001b[32m0\u001b[39m]\u001b[38;5;132;01m}\u001b[39;00m\u001b[33m'\u001b[39m\u001b[33m?\u001b[39m\u001b[33m\"\u001b[39m \u001b[38;5;28;01mif\u001b[39;00m suggestions \u001b[38;5;28;01melse\u001b[39;00m \u001b[33m\"\u001b[39m\u001b[33m\"\u001b[39m\n\u001b[32m   1174\u001b[39m         )\n\u001b[32m   1175\u001b[39m         logger.warning(\n\u001b[32m   1176\u001b[39m             \u001b[33mf\u001b[39m\u001b[33m\"\u001b[39m\u001b[33mUnexpected argument \u001b[39m\u001b[33m'\u001b[39m\u001b[38;5;132;01m{\u001b[39;00marg\u001b[38;5;132;01m}\u001b[39;00m\u001b[33m'\u001b[39m\u001b[33m \u001b[39m\u001b[33m\"\u001b[39m\n\u001b[32m   1177\u001b[39m             \u001b[33mf\u001b[39m\u001b[33m\"\u001b[39m\u001b[33mprovided to ChatGoogleGenerativeAI.\u001b[39m\u001b[38;5;132;01m{\u001b[39;00msuggestion\u001b[38;5;132;01m}\u001b[39;00m\u001b[33m\"\u001b[39m\n\u001b[32m   1178\u001b[39m         )\n\u001b[32m-> \u001b[39m\u001b[32m1179\u001b[39m \u001b[38;5;28;43msuper\u001b[39;49m\u001b[43m(\u001b[49m\u001b[43m)\u001b[49m\u001b[43m.\u001b[49m\u001b[34;43m__init__\u001b[39;49m\u001b[43m(\u001b[49m\u001b[43m*\u001b[49m\u001b[43m*\u001b[49m\u001b[43mkwargs\u001b[49m\u001b[43m)\u001b[49m\n",
      "\u001b[36mFile \u001b[39m\u001b[32m/WindowsDrive/DriftResearchProject/intellitube/.venv/lib/python3.12/site-packages/langchain_core/load/serializable.py:130\u001b[39m, in \u001b[36mSerializable.__init__\u001b[39m\u001b[34m(self, *args, **kwargs)\u001b[39m\n\u001b[32m    128\u001b[39m \u001b[38;5;28;01mdef\u001b[39;00m\u001b[38;5;250m \u001b[39m\u001b[34m__init__\u001b[39m(\u001b[38;5;28mself\u001b[39m, *args: Any, **kwargs: Any) -> \u001b[38;5;28;01mNone\u001b[39;00m:\n\u001b[32m    129\u001b[39m \u001b[38;5;250m    \u001b[39m\u001b[33;03m\"\"\"\"\"\"\u001b[39;00m  \u001b[38;5;66;03m# noqa: D419\u001b[39;00m\n\u001b[32m--> \u001b[39m\u001b[32m130\u001b[39m     \u001b[38;5;28;43msuper\u001b[39;49m\u001b[43m(\u001b[49m\u001b[43m)\u001b[49m\u001b[43m.\u001b[49m\u001b[34;43m__init__\u001b[39;49m\u001b[43m(\u001b[49m\u001b[43m*\u001b[49m\u001b[43margs\u001b[49m\u001b[43m,\u001b[49m\u001b[43m \u001b[49m\u001b[43m*\u001b[49m\u001b[43m*\u001b[49m\u001b[43mkwargs\u001b[49m\u001b[43m)\u001b[49m\n",
      "    \u001b[31m[... skipping hidden 1 frame]\u001b[39m\n",
      "\u001b[36mFile \u001b[39m\u001b[32m/WindowsDrive/DriftResearchProject/intellitube/.venv/lib/python3.12/site-packages/langchain_google_genai/chat_models.py:1240\u001b[39m, in \u001b[36mChatGoogleGenerativeAI.validate_environment\u001b[39m\u001b[34m(self)\u001b[39m\n\u001b[32m   1238\u001b[39m         google_api_key = \u001b[38;5;28mself\u001b[39m.google_api_key\n\u001b[32m   1239\u001b[39m transport: Optional[\u001b[38;5;28mstr\u001b[39m] = \u001b[38;5;28mself\u001b[39m.transport\n\u001b[32m-> \u001b[39m\u001b[32m1240\u001b[39m \u001b[38;5;28mself\u001b[39m.client = \u001b[43mgenaix\u001b[49m\u001b[43m.\u001b[49m\u001b[43mbuild_generative_service\u001b[49m\u001b[43m(\u001b[49m\n\u001b[32m   1241\u001b[39m \u001b[43m    \u001b[49m\u001b[43mcredentials\u001b[49m\u001b[43m=\u001b[49m\u001b[38;5;28;43mself\u001b[39;49m\u001b[43m.\u001b[49m\u001b[43mcredentials\u001b[49m\u001b[43m,\u001b[49m\n\u001b[32m   1242\u001b[39m \u001b[43m    \u001b[49m\u001b[43mapi_key\u001b[49m\u001b[43m=\u001b[49m\u001b[43mgoogle_api_key\u001b[49m\u001b[43m,\u001b[49m\n\u001b[32m   1243\u001b[39m \u001b[43m    \u001b[49m\u001b[43mclient_info\u001b[49m\u001b[43m=\u001b[49m\u001b[43mclient_info\u001b[49m\u001b[43m,\u001b[49m\n\u001b[32m   1244\u001b[39m \u001b[43m    \u001b[49m\u001b[43mclient_options\u001b[49m\u001b[43m=\u001b[49m\u001b[38;5;28;43mself\u001b[39;49m\u001b[43m.\u001b[49m\u001b[43mclient_options\u001b[49m\u001b[43m,\u001b[49m\n\u001b[32m   1245\u001b[39m \u001b[43m    \u001b[49m\u001b[43mtransport\u001b[49m\u001b[43m=\u001b[49m\u001b[43mtransport\u001b[49m\u001b[43m,\u001b[49m\n\u001b[32m   1246\u001b[39m \u001b[43m\u001b[49m\u001b[43m)\u001b[49m\n\u001b[32m   1247\u001b[39m \u001b[38;5;28mself\u001b[39m.async_client_running = \u001b[38;5;28;01mNone\u001b[39;00m\n\u001b[32m   1248\u001b[39m \u001b[38;5;28;01mreturn\u001b[39;00m \u001b[38;5;28mself\u001b[39m\n",
      "\u001b[36mFile \u001b[39m\u001b[32m/WindowsDrive/DriftResearchProject/intellitube/.venv/lib/python3.12/site-packages/langchain_google_genai/_genai_extension.py:276\u001b[39m, in \u001b[36mbuild_generative_service\u001b[39m\u001b[34m(credentials, api_key, client_options, client_info, transport)\u001b[39m\n\u001b[32m    262\u001b[39m \u001b[38;5;28;01mdef\u001b[39;00m\u001b[38;5;250m \u001b[39m\u001b[34mbuild_generative_service\u001b[39m(\n\u001b[32m    263\u001b[39m     credentials: Optional[credentials.Credentials] = \u001b[38;5;28;01mNone\u001b[39;00m,\n\u001b[32m    264\u001b[39m     api_key: Optional[\u001b[38;5;28mstr\u001b[39m] = \u001b[38;5;28;01mNone\u001b[39;00m,\n\u001b[32m   (...)\u001b[39m\u001b[32m    267\u001b[39m     transport: Optional[\u001b[38;5;28mstr\u001b[39m] = \u001b[38;5;28;01mNone\u001b[39;00m,\n\u001b[32m    268\u001b[39m ) -> v1betaGenerativeServiceClient:\n\u001b[32m    269\u001b[39m     config = _prepare_config(\n\u001b[32m    270\u001b[39m         credentials=credentials,\n\u001b[32m    271\u001b[39m         api_key=api_key,\n\u001b[32m   (...)\u001b[39m\u001b[32m    274\u001b[39m         client_info=client_info,\n\u001b[32m    275\u001b[39m     )\n\u001b[32m--> \u001b[39m\u001b[32m276\u001b[39m     \u001b[38;5;28;01mreturn\u001b[39;00m \u001b[43mv1betaGenerativeServiceClient\u001b[49m\u001b[43m(\u001b[49m\u001b[43m*\u001b[49m\u001b[43m*\u001b[49m\u001b[43mconfig\u001b[49m\u001b[43m)\u001b[49m\n",
      "\u001b[36mFile \u001b[39m\u001b[32m/WindowsDrive/DriftResearchProject/intellitube/.venv/lib/python3.12/site-packages/google/ai/generativelanguage_v1beta/services/generative_service/client.py:697\u001b[39m, in \u001b[36mGenerativeServiceClient.__init__\u001b[39m\u001b[34m(self, credentials, transport, client_options, client_info)\u001b[39m\n\u001b[32m    688\u001b[39m     transport_init: Union[\n\u001b[32m    689\u001b[39m         Type[GenerativeServiceTransport],\n\u001b[32m    690\u001b[39m         Callable[..., GenerativeServiceTransport],\n\u001b[32m   (...)\u001b[39m\u001b[32m    694\u001b[39m         \u001b[38;5;28;01melse\u001b[39;00m cast(Callable[..., GenerativeServiceTransport], transport)\n\u001b[32m    695\u001b[39m     )\n\u001b[32m    696\u001b[39m     \u001b[38;5;66;03m# initialize with the provided callable or the passed in class\u001b[39;00m\n\u001b[32m--> \u001b[39m\u001b[32m697\u001b[39m     \u001b[38;5;28mself\u001b[39m._transport = \u001b[43mtransport_init\u001b[49m\u001b[43m(\u001b[49m\n\u001b[32m    698\u001b[39m \u001b[43m        \u001b[49m\u001b[43mcredentials\u001b[49m\u001b[43m=\u001b[49m\u001b[43mcredentials\u001b[49m\u001b[43m,\u001b[49m\n\u001b[32m    699\u001b[39m \u001b[43m        \u001b[49m\u001b[43mcredentials_file\u001b[49m\u001b[43m=\u001b[49m\u001b[38;5;28;43mself\u001b[39;49m\u001b[43m.\u001b[49m\u001b[43m_client_options\u001b[49m\u001b[43m.\u001b[49m\u001b[43mcredentials_file\u001b[49m\u001b[43m,\u001b[49m\n\u001b[32m    700\u001b[39m \u001b[43m        \u001b[49m\u001b[43mhost\u001b[49m\u001b[43m=\u001b[49m\u001b[38;5;28;43mself\u001b[39;49m\u001b[43m.\u001b[49m\u001b[43m_api_endpoint\u001b[49m\u001b[43m,\u001b[49m\n\u001b[32m    701\u001b[39m \u001b[43m        \u001b[49m\u001b[43mscopes\u001b[49m\u001b[43m=\u001b[49m\u001b[38;5;28;43mself\u001b[39;49m\u001b[43m.\u001b[49m\u001b[43m_client_options\u001b[49m\u001b[43m.\u001b[49m\u001b[43mscopes\u001b[49m\u001b[43m,\u001b[49m\n\u001b[32m    702\u001b[39m \u001b[43m        \u001b[49m\u001b[43mclient_cert_source_for_mtls\u001b[49m\u001b[43m=\u001b[49m\u001b[38;5;28;43mself\u001b[39;49m\u001b[43m.\u001b[49m\u001b[43m_client_cert_source\u001b[49m\u001b[43m,\u001b[49m\n\u001b[32m    703\u001b[39m \u001b[43m        \u001b[49m\u001b[43mquota_project_id\u001b[49m\u001b[43m=\u001b[49m\u001b[38;5;28;43mself\u001b[39;49m\u001b[43m.\u001b[49m\u001b[43m_client_options\u001b[49m\u001b[43m.\u001b[49m\u001b[43mquota_project_id\u001b[49m\u001b[43m,\u001b[49m\n\u001b[32m    704\u001b[39m \u001b[43m        \u001b[49m\u001b[43mclient_info\u001b[49m\u001b[43m=\u001b[49m\u001b[43mclient_info\u001b[49m\u001b[43m,\u001b[49m\n\u001b[32m    705\u001b[39m \u001b[43m        \u001b[49m\u001b[43malways_use_jwt_access\u001b[49m\u001b[43m=\u001b[49m\u001b[38;5;28;43;01mTrue\u001b[39;49;00m\u001b[43m,\u001b[49m\n\u001b[32m    706\u001b[39m \u001b[43m        \u001b[49m\u001b[43mapi_audience\u001b[49m\u001b[43m=\u001b[49m\u001b[38;5;28;43mself\u001b[39;49m\u001b[43m.\u001b[49m\u001b[43m_client_options\u001b[49m\u001b[43m.\u001b[49m\u001b[43mapi_audience\u001b[49m\u001b[43m,\u001b[49m\n\u001b[32m    707\u001b[39m \u001b[43m    \u001b[49m\u001b[43m)\u001b[49m\n\u001b[32m    709\u001b[39m \u001b[38;5;28;01mif\u001b[39;00m \u001b[33m\"\u001b[39m\u001b[33masync\u001b[39m\u001b[33m\"\u001b[39m \u001b[38;5;129;01mnot\u001b[39;00m \u001b[38;5;129;01min\u001b[39;00m \u001b[38;5;28mstr\u001b[39m(\u001b[38;5;28mself\u001b[39m._transport):\n\u001b[32m    710\u001b[39m     \u001b[38;5;28;01mif\u001b[39;00m CLIENT_LOGGING_SUPPORTED \u001b[38;5;129;01mand\u001b[39;00m _LOGGER.isEnabledFor(\n\u001b[32m    711\u001b[39m         std_logging.DEBUG\n\u001b[32m    712\u001b[39m     ):  \u001b[38;5;66;03m# pragma: NO COVER\u001b[39;00m\n",
      "\u001b[36mFile \u001b[39m\u001b[32m/WindowsDrive/DriftResearchProject/intellitube/.venv/lib/python3.12/site-packages/google/ai/generativelanguage_v1beta/services/generative_service/transports/grpc.py:234\u001b[39m, in \u001b[36mGenerativeServiceGrpcTransport.__init__\u001b[39m\u001b[34m(self, host, credentials, credentials_file, scopes, channel, api_mtls_endpoint, client_cert_source, ssl_channel_credentials, client_cert_source_for_mtls, quota_project_id, client_info, always_use_jwt_access, api_audience)\u001b[39m\n\u001b[32m    229\u001b[39m             \u001b[38;5;28mself\u001b[39m._ssl_channel_credentials = grpc.ssl_channel_credentials(\n\u001b[32m    230\u001b[39m                 certificate_chain=cert, private_key=key\n\u001b[32m    231\u001b[39m             )\n\u001b[32m    233\u001b[39m \u001b[38;5;66;03m# The base transport sets the host, credentials and scopes\u001b[39;00m\n\u001b[32m--> \u001b[39m\u001b[32m234\u001b[39m \u001b[38;5;28;43msuper\u001b[39;49m\u001b[43m(\u001b[49m\u001b[43m)\u001b[49m\u001b[43m.\u001b[49m\u001b[34;43m__init__\u001b[39;49m\u001b[43m(\u001b[49m\n\u001b[32m    235\u001b[39m \u001b[43m    \u001b[49m\u001b[43mhost\u001b[49m\u001b[43m=\u001b[49m\u001b[43mhost\u001b[49m\u001b[43m,\u001b[49m\n\u001b[32m    236\u001b[39m \u001b[43m    \u001b[49m\u001b[43mcredentials\u001b[49m\u001b[43m=\u001b[49m\u001b[43mcredentials\u001b[49m\u001b[43m,\u001b[49m\n\u001b[32m    237\u001b[39m \u001b[43m    \u001b[49m\u001b[43mcredentials_file\u001b[49m\u001b[43m=\u001b[49m\u001b[43mcredentials_file\u001b[49m\u001b[43m,\u001b[49m\n\u001b[32m    238\u001b[39m \u001b[43m    \u001b[49m\u001b[43mscopes\u001b[49m\u001b[43m=\u001b[49m\u001b[43mscopes\u001b[49m\u001b[43m,\u001b[49m\n\u001b[32m    239\u001b[39m \u001b[43m    \u001b[49m\u001b[43mquota_project_id\u001b[49m\u001b[43m=\u001b[49m\u001b[43mquota_project_id\u001b[49m\u001b[43m,\u001b[49m\n\u001b[32m    240\u001b[39m \u001b[43m    \u001b[49m\u001b[43mclient_info\u001b[49m\u001b[43m=\u001b[49m\u001b[43mclient_info\u001b[49m\u001b[43m,\u001b[49m\n\u001b[32m    241\u001b[39m \u001b[43m    \u001b[49m\u001b[43malways_use_jwt_access\u001b[49m\u001b[43m=\u001b[49m\u001b[43malways_use_jwt_access\u001b[49m\u001b[43m,\u001b[49m\n\u001b[32m    242\u001b[39m \u001b[43m    \u001b[49m\u001b[43mapi_audience\u001b[49m\u001b[43m=\u001b[49m\u001b[43mapi_audience\u001b[49m\u001b[43m,\u001b[49m\n\u001b[32m    243\u001b[39m \u001b[43m\u001b[49m\u001b[43m)\u001b[49m\n\u001b[32m    245\u001b[39m \u001b[38;5;28;01mif\u001b[39;00m \u001b[38;5;129;01mnot\u001b[39;00m \u001b[38;5;28mself\u001b[39m._grpc_channel:\n\u001b[32m    246\u001b[39m     \u001b[38;5;66;03m# initialize with the provided callable or the default channel\u001b[39;00m\n\u001b[32m    247\u001b[39m     channel_init = channel \u001b[38;5;129;01mor\u001b[39;00m \u001b[38;5;28mtype\u001b[39m(\u001b[38;5;28mself\u001b[39m).create_channel\n",
      "\u001b[36mFile \u001b[39m\u001b[32m/WindowsDrive/DriftResearchProject/intellitube/.venv/lib/python3.12/site-packages/google/ai/generativelanguage_v1beta/services/generative_service/transports/base.py:100\u001b[39m, in \u001b[36mGenerativeServiceTransport.__init__\u001b[39m\u001b[34m(self, host, credentials, credentials_file, scopes, quota_project_id, client_info, always_use_jwt_access, api_audience, **kwargs)\u001b[39m\n\u001b[32m     96\u001b[39m     credentials, _ = google.auth.load_credentials_from_file(\n\u001b[32m     97\u001b[39m         credentials_file, **scopes_kwargs, quota_project_id=quota_project_id\n\u001b[32m     98\u001b[39m     )\n\u001b[32m     99\u001b[39m \u001b[38;5;28;01melif\u001b[39;00m credentials \u001b[38;5;129;01mis\u001b[39;00m \u001b[38;5;28;01mNone\u001b[39;00m \u001b[38;5;129;01mand\u001b[39;00m \u001b[38;5;129;01mnot\u001b[39;00m \u001b[38;5;28mself\u001b[39m._ignore_credentials:\n\u001b[32m--> \u001b[39m\u001b[32m100\u001b[39m     credentials, _ = \u001b[43mgoogle\u001b[49m\u001b[43m.\u001b[49m\u001b[43mauth\u001b[49m\u001b[43m.\u001b[49m\u001b[43mdefault\u001b[49m\u001b[43m(\u001b[49m\n\u001b[32m    101\u001b[39m \u001b[43m        \u001b[49m\u001b[43m*\u001b[49m\u001b[43m*\u001b[49m\u001b[43mscopes_kwargs\u001b[49m\u001b[43m,\u001b[49m\u001b[43m \u001b[49m\u001b[43mquota_project_id\u001b[49m\u001b[43m=\u001b[49m\u001b[43mquota_project_id\u001b[49m\n\u001b[32m    102\u001b[39m \u001b[43m    \u001b[49m\u001b[43m)\u001b[49m\n\u001b[32m    103\u001b[39m     \u001b[38;5;66;03m# Don't apply audience if the credentials file passed from user.\u001b[39;00m\n\u001b[32m    104\u001b[39m     \u001b[38;5;28;01mif\u001b[39;00m \u001b[38;5;28mhasattr\u001b[39m(credentials, \u001b[33m\"\u001b[39m\u001b[33mwith_gdch_audience\u001b[39m\u001b[33m\"\u001b[39m):\n",
      "\u001b[36mFile \u001b[39m\u001b[32m/WindowsDrive/DriftResearchProject/intellitube/.venv/lib/python3.12/site-packages/google/auth/_default.py:685\u001b[39m, in \u001b[36mdefault\u001b[39m\u001b[34m(scopes, request, quota_project_id, default_scopes)\u001b[39m\n\u001b[32m    677\u001b[39m             _LOGGER.warning(\n\u001b[32m    678\u001b[39m                 \u001b[33m\"\u001b[39m\u001b[33mNo project ID could be determined. Consider running \u001b[39m\u001b[33m\"\u001b[39m\n\u001b[32m    679\u001b[39m                 \u001b[33m\"\u001b[39m\u001b[33m`gcloud config set project` or setting the \u001b[39m\u001b[38;5;132;01m%s\u001b[39;00m\u001b[33m \u001b[39m\u001b[33m\"\u001b[39m\n\u001b[32m    680\u001b[39m                 \u001b[33m\"\u001b[39m\u001b[33menvironment variable\u001b[39m\u001b[33m\"\u001b[39m,\n\u001b[32m    681\u001b[39m                 environment_vars.PROJECT,\n\u001b[32m    682\u001b[39m             )\n\u001b[32m    683\u001b[39m         \u001b[38;5;28;01mreturn\u001b[39;00m credentials, effective_project_id\n\u001b[32m--> \u001b[39m\u001b[32m685\u001b[39m \u001b[38;5;28;01mraise\u001b[39;00m exceptions.DefaultCredentialsError(_CLOUD_SDK_MISSING_CREDENTIALS)\n",
      "\u001b[31mDefaultCredentialsError\u001b[39m: Your default credentials were not found. To set up Application Default Credentials, see https://cloud.google.com/docs/authentication/external/set-up-adc for more information."
     ]
    }
   ],
   "source": [
    "TEST_LLM = True\n",
    "llm = init_llm(model_provider='google')\n",
    "# llm = select_llm(model_provider='groq')\n",
    "# llm = select_llm(model_provider='ollama')\n",
    "\n",
    "if TEST_LLM:\n",
    "    resp = llm.invoke(\"What is superiority complex? Respond with a nicely structured & formatted answer!\")\n",
    "    print(resp)\n",
    "    \n",
    "    from IPython.display import display, Markdown\n",
    "    display(Markdown(resp.content))"
   ]
  },
  {
   "cell_type": "markdown",
   "id": "28a23b9b",
   "metadata": {},
   "source": [
    "## Define State Schema"
   ]
  },
  {
   "cell_type": "markdown",
   "id": "d1fdd841",
   "metadata": {},
   "source": [
    "### Router Agent Response State Schema"
   ]
  },
  {
   "cell_type": "code",
   "execution_count": 10,
   "id": "8363bcf1",
   "metadata": {},
   "outputs": [],
   "source": [
    "from pydantic import BaseModel, Field\n",
    "from typing_extensions import Any, Optional\n",
    "from langchain_core.messages import AIMessage, SystemMessage, HumanMessage, ToolMessage, BaseMessage\n",
    "\n",
    "class RouterAgentResponse(BaseModel):\n",
    "    user_query: str = Field(description=(\n",
    "        \"The user's original query EXACTLY as it appears, without any modification, rewording, or interpretation.\\n\"\n",
    "        \"You MUST NOT include any URLs, file paths, or hyperlinks in this field — only the natural language query.\\n\"\n",
    "        \"Preserve the casing, punctuation, and wording. Do NOT fix typos or grammar.\"\n",
    "    ))\n",
    "    url: Optional[str] = Field(default=None, description=(\n",
    "        \"The exact URL or local document/file path mentioned in the user's input.\\n\"\n",
    "        \"If there is no URL or file path, leave this as null (do not fabricate one).\\n\"\n",
    "        \"Example: 'https://example.com/page', 'C:/Documents/myfile.txt', './notes.md'\"\n",
    "    ))\n",
    "    url_of: Optional[Literal[\"youtube_video\", \"website\", \"document\"]] = Field(default=None, description=(\n",
    "        \"The type of content the `url` field refers to:\\n\"\n",
    "        \"- 'youtube_video': if it's a YouTube video link\\n\"\n",
    "        \"- 'website': for general websites or web pages\\n\"\n",
    "        \"- 'document': for file paths (like .txt, .pdf, .md, etc.)\\n\"\n",
    "        \"If no URL/path is provided, this should be null.\"\n",
    "    ))"
   ]
  },
  {
   "cell_type": "markdown",
   "id": "9b02d385",
   "metadata": {},
   "source": [
    "### Messages State Schema"
   ]
  },
  {
   "cell_type": "code",
   "execution_count": 11,
   "id": "ee80941b",
   "metadata": {},
   "outputs": [],
   "source": [
    "from langgraph.graph.message import add_messages\n",
    "from langchain_core.messages import BaseMessage\n",
    "from typing_extensions import Annotated, Sequence, TypedDict, Optional\n",
    "\n",
    "class AgentState(TypedDict):\n",
    "    messages: Annotated[Sequence[BaseMessage], add_messages]\n",
    "    router_response: Optional[RouterAgentResponse] = None\n",
    "    retrieved_docs: Optional[List[Document]] = None"
   ]
  },
  {
   "cell_type": "markdown",
   "id": "79fa6ca5",
   "metadata": {},
   "source": [
    "## Create Nodes"
   ]
  },
  {
   "cell_type": "markdown",
   "id": "dd5f4f00",
   "metadata": {},
   "source": [
    "### Router Node\n",
    "This router will decide if the user has provided any Document/Website URL/YouTube URL. Depending on the type of URL it will call a function to load the document or just redirect the query to a RAG Agent for direct response generation if no URL is provided.\n",
    "\n",
    "### 💡 Idea Behind Router Agent\n",
    "The Router Agent will take the query and identify below mentioned features from the query:\n",
    " - User Query\n",
    " - URL/Path of a file/website/youtube-video\n",
    "\n",
    "And then it will return a structured output with the following informations:\n",
    " - `url`: URL/Path mentioned in the provided query (Can be `None` if absent)\n",
    " - `user_query`: The user query\n",
    " - `url_of`: `\"website\"`, `\"youtube_video\"`, `\"document\"`"
   ]
  },
  {
   "cell_type": "markdown",
   "id": "4fbf018c",
   "metadata": {},
   "source": [
    "#### Define The System Message"
   ]
  },
  {
   "cell_type": "code",
   "execution_count": 12,
   "id": "9f9df094",
   "metadata": {},
   "outputs": [],
   "source": [
    "system_message = SystemMessage(\"\"\"\n",
    "You are an extraction agent. Your task is to return a JSON response in this exact format:\n",
    "\n",
    "{\n",
    "  \"user_query\": \"<EXACT user query WITHOUT any URLs or paths>\",\n",
    "  \"url\": \"<the full URL or local path if present, else null>\",\n",
    "  \"url_of\": \"<one of 'youtube_video', 'website', or 'document' if URL/path is present, else null>\"\n",
    "}\n",
    "\n",
    "⚠️ VERY STRICT RULES (follow them or your output is invalid):\n",
    "1. DO NOT paraphrase, correct, or modify the user's query — copy it EXACTLY as it appears.\n",
    "2. REMOVE all URLs and file paths from the `user_query`.\n",
    "3. IF a URL or file path exists, assign it to the `url` field and classify it using `url_of`.\n",
    "4. `url_of` MUST be one of: \"youtube_video\", \"website\", or \"document\". Never invent new types.\n",
    "5. IF no URL/path is found, both `url` and `url_of` must be null or omitted.\n",
    "\n",
    "====================\n",
    "EXAMPLES:\n",
    "\n",
    "# Example 1 (simple website URL):\n",
    "Input: How to use LangChain structured output? https://docs.langchain.com/docs/structured_outputs\n",
    "Output:\n",
    "{\n",
    "  \"user_query\": \"How to use LangChain structured output?\",\n",
    "  \"url\": \"https://docs.langchain.com/docs/structured_outputs\",\n",
    "  \"url_of\": \"website\"\n",
    "}\n",
    "\n",
    "# Example 2 (YouTube video link):\n",
    "Input: Summarize this video https://www.youtube.com/watch?v=dQw4w9WgXcQ\n",
    "Output:\n",
    "{\n",
    "  \"user_query\": \"Summarize this video\",\n",
    "  \"url\": \"https://www.youtube.com/watch?v=dQw4w9WgXcQ\",\n",
    "  \"url_of\": \"youtube_video\"\n",
    "}\n",
    "\n",
    "# Example 3 (file name with extension):\n",
    "Input: Convert file.txt to JSON\n",
    "Output:\n",
    "{\n",
    "  \"user_query\": \"Convert file.txt to JSON\",\n",
    "  \"url\": \"file.txt\",\n",
    "  \"url_of\": \"document\"\n",
    "}\n",
    "\n",
    "# Example 4 (multiple file paths — take only the one mentioned):\n",
    "Input: I saved it in ./notes/lecture1.md. Please summarize.\n",
    "Output:\n",
    "{\n",
    "  \"user_query\": \"Please summarize.\",\n",
    "  \"url\": \"./notes/lecture1.md\",\n",
    "  \"url_of\": \"document\"\n",
    "}\n",
    "\n",
    "# Example 5 (no URL or file path):\n",
    "Input: You should stop wasting your time\n",
    "Output:\n",
    "{\n",
    "  \"user_query\": \"You should stop wasting your time\"\n",
    "}\n",
    "\n",
    "# Example 6 (unclear context — do NOT assume):\n",
    "Input: Read this https://mystery.link/something\n",
    "Output:\n",
    "{\n",
    "  \"user_query\": \"Read this\",\n",
    "  \"url\": \"https://mystery.link/something\",\n",
    "  \"url_of\": \"website\"\n",
    "}\n",
    "\n",
    "# Example 7 (file path with Windows format):\n",
    "Input: Please check C:\\\\Users\\\\Me\\\\Desktop\\\\data.csv\n",
    "Output:\n",
    "{\n",
    "  \"user_query\": \"Please check\",\n",
    "  \"url\": \"C:\\\\Users\\\\Me\\\\Desktop\\\\data.csv\",\n",
    "  \"url_of\": \"document\"\n",
    "}\n",
    "====================\n",
    "\n",
    "🧠 TIP: If you are unsure about the type of the `url`, classify based on the extension or domain. If no clue, default to \"website\".\n",
    "\n",
    "NOW RETURN ONLY THE JSON OBJECT. Do NOT add explanations, comments, or markdown.\n",
    "\"\"\")\n"
   ]
  },
  {
   "cell_type": "markdown",
   "id": "1afcd6b9",
   "metadata": {},
   "source": [
    "#### Router Agent Node"
   ]
  },
  {
   "cell_type": "code",
   "execution_count": 13,
   "id": "5db004a7",
   "metadata": {},
   "outputs": [],
   "source": [
    "def router_agent_node(state: AgentState) -> AgentState:\n",
    "    structured_llm = llm.with_structured_output(RouterAgentResponse)\n",
    "    agent_resp: RouterAgentResponse = structured_llm.invoke([system_message, state[\"messages\"][-1]])\n",
    "\n",
    "    # loader_func = document_loader_functions.get(agent_resp.url_of)\n",
    "    # if loader_func:\n",
    "        # data = \n",
    "\n",
    "    return {\"messages\": [HumanMessage(agent_resp.user_query)], \"router_response\": agent_resp}"
   ]
  },
  {
   "cell_type": "markdown",
   "id": "ef79fc61",
   "metadata": {},
   "source": [
    "#### Query Router Node"
   ]
  },
  {
   "cell_type": "code",
   "execution_count": 14,
   "id": "01f74b17",
   "metadata": {},
   "outputs": [],
   "source": [
    "def query_router_node(state: AgentState) -> Literal[\"use_loader\", \"use_retriever\"]:\n",
    "    return \"use_retriever\" if not state[\"router_response\"].url_of else \"use_loader\""
   ]
  },
  {
   "cell_type": "markdown",
   "id": "1349532a",
   "metadata": {},
   "source": [
    "#### Document Loader Node"
   ]
  },
  {
   "cell_type": "code",
   "execution_count": 15,
   "id": "066384e3",
   "metadata": {},
   "outputs": [],
   "source": [
    "def document_loader_node(state: AgentState) -> Literal[\"success\", \"fail\"]:\n",
    "    logger.info(f'{state[\"router_response\"] = }')\n",
    "    loader_func = document_loader_functions.get(state[\"router_response\"].url_of)\n",
    "    logger.info(f\"{loader_func = }\")\n",
    "    status = loader_func(state[\"router_response\"].url)\n",
    "    return \"success\" if status else \"fail\""
   ]
  },
  {
   "cell_type": "markdown",
   "id": "70ebae52",
   "metadata": {},
   "source": [
    "#### Retriever Node"
   ]
  },
  {
   "cell_type": "code",
   "execution_count": 16,
   "id": "0fd2b111",
   "metadata": {},
   "outputs": [],
   "source": [
    "retriever = document_rag.vectorstore.as_retriever(\n",
    "    search_type=\"similarity_score_threshold\",\n",
    "    search_kwargs={'score_threshold': 0.6}\n",
    ")\n",
    "\n",
    "def document_retriever_node(state: AgentState) -> AgentState:\n",
    "    state[\"retrieved_docs\"] = retriever.invoke(state[\"router_response\"].user_query)\n",
    "    print(\"\\n\\n\\n\")\n",
    "    print(state[\"retrieved_docs\"], end='\\n\\n')\n",
    "    return state"
   ]
  },
  {
   "cell_type": "markdown",
   "id": "f4ef43d1",
   "metadata": {},
   "source": [
    "#### Test (if you want)"
   ]
  },
  {
   "cell_type": "code",
   "execution_count": 17,
   "id": "1abffe95",
   "metadata": {},
   "outputs": [
    {
     "name": "stdout",
     "output_type": "stream",
     "text": [
      "Query: What is the model name mentioned?\n",
      "https://build.nvidia.com/nvidia/llama-3_1-nemotron-51b-instruct\n",
      "{'messages': [HumanMessage(content='What is the model name mentioned?', additional_kwargs={}, response_metadata={})], 'router_response': RouterAgentResponse(user_query='What is the model name mentioned?', url='https://build.nvidia.com/nvidia/llama-3_1-nemotron-51b-instruct', url_of='website')}\n",
      "Query: What do you see here?\n",
      "https://www.youtube.com/watch?v=W3I3kAg2J7w&t=231s\n",
      "{'messages': [HumanMessage(content='What do you see here?', additional_kwargs={}, response_metadata={})], 'router_response': RouterAgentResponse(user_query='What do you see here?', url='https://www.youtube.com/watch?v=W3I3kAg2J7w&t=231s', url_of='youtube_video')}\n",
      "Query: Summarize this document: ~/data.json\n",
      "{'messages': [HumanMessage(content='Summarize this document:', additional_kwargs={}, response_metadata={})], 'router_response': RouterAgentResponse(user_query='Summarize this document:', url='~/data.json', url_of='document')}\n",
      "Query: Why oranges are red and violates are blue?\n",
      "{'messages': [HumanMessage(content='Why oranges are red and violates are blue?', additional_kwargs={}, response_metadata={})], 'router_response': RouterAgentResponse(user_query='Why oranges are red and violates are blue?', url=None, url_of=None)}\n",
      "Query: This asdj/klrt/1234.py file appears to be corrupted. Can you read it?\n",
      "{'messages': [HumanMessage(content='This file appears to be corrupted. Can you read it?', additional_kwargs={}, response_metadata={})], 'router_response': RouterAgentResponse(user_query='This file appears to be corrupted. Can you read it?', url='asdj/klrt/1234.py', url_of='document')}\n"
     ]
    }
   ],
   "source": [
    "TEST_DOC_LOAD_ROUTER = False\n",
    "\n",
    "if TEST_DOC_LOAD_ROUTER:\n",
    "    queries = [\n",
    "        # Website URL\n",
    "        \"What is the model name mentioned?\\nhttps://build.nvidia.com/nvidia/llama-3_1-nemotron-51b-instruct\",\n",
    "        # YouTube URL\n",
    "        \"What do you see here?\\nhttps://www.youtube.com/watch?v=W3I3kAg2J7w&t=231s\",\n",
    "        # Local Document Path\n",
    "        \"Summarize this document: ~/data.json\",\n",
    "        # Just a normal Query\n",
    "        \"Why oranges are red and violates are blue?\",\n",
    "        \"This asdj/klrt/1234.py file appears to be corrupted. Can you read it?\"\n",
    "    ]\n",
    "\n",
    "    for i, query in enumerate(queries):\n",
    "        print(\"-\"*15, f\"Test {i + 1}\", \"*\"*15, end='\\n\\n')\n",
    "        response = router_agent_node(user_query=query)\n",
    "        print(\"\\n\\n\")\n",
    "\n",
    "\n",
    "TEST_ROUTER_NODE = True\n",
    "\n",
    "if TEST_ROUTER_NODE:\n",
    "    from langchain_core.messages import HumanMessage\n",
    "\n",
    "    queries = [\n",
    "        # Website URL\n",
    "        \"What is the model name mentioned?\\nhttps://build.nvidia.com/nvidia/llama-3_1-nemotron-51b-instruct\",\n",
    "        # YouTube URL\n",
    "        \"What do you see here?\\nhttps://www.youtube.com/watch?v=W3I3kAg2J7w&t=231s\",\n",
    "        # Local Document Path\n",
    "        \"Summarize this document: ~/data.json\",\n",
    "        # Just a normal Query\n",
    "        \"Why oranges are red and violates are blue?\",\n",
    "        \"This asdj/klrt/1234.py file appears to be corrupted. Can you read it?\"\n",
    "    ]\n",
    "\n",
    "    for query in queries:\n",
    "        print(\"Query:\", query)\n",
    "        state = AgentState(messages=[HumanMessage(query)])\n",
    "        resp = router_agent_node(state)\n",
    "        print(resp)\n",
    "        # print(resp[\"messages\"][0].model_dump_json())"
   ]
  },
  {
   "cell_type": "markdown",
   "id": "33d4028b",
   "metadata": {},
   "source": [
    "### Chat Agent Node"
   ]
  },
  {
   "cell_type": "code",
   "execution_count": null,
   "id": "3e07390d",
   "metadata": {},
   "outputs": [],
   "source": [
    "\"\"\"\n",
    "\n",
    "Answer user query with within the given context. If the context -\n",
    "    - Not Relevant: Ask for better context.\n",
    "    - Not Found: Say politely you can't answer.\n",
    "\n",
    "\"\"\"\n",
    "\n",
    "def chat_agent_node(state: AgentState) -> AgentState:\n",
    "    \"\"\"A Chat Agent\"\"\"\n",
    "    docs = (\n",
    "        \"\\n\\n\".join(f\"Source #{i + 1}: {document.page_content}\" for i, document in enumerate(state[\"retrieved_docs\"]))\n",
    "        if state.get(\"retrieved_docs\") else \"\"\n",
    "    )\n",
    "\n",
    "    system_prompt = SystemMessage(\n",
    "        f\"\"\"You are IntelliTube AI, a smart research parter for the user.\n",
    "You are a part of a system that is capable of loading documents from files, web pages, and YouTube videos using a document loader. Relevant content may have been preloaded.\n",
    "\n",
    "----\n",
    "Here are some preloaded content{f' from {state['router_response'].url} {state['router_response'].url_of}'} you might find useful: {'\\n' + docs if docs else '[No Context Available.]'}\n",
    "----\n",
    "You may use the content for answering.\n",
    "\n",
    "Key things to note:\n",
    " - The system you're a part of - has the ability to load files, webpages or even youtube videos.\n",
    " - The system will provide necessary preloaded content when asked by the user.\n",
    " - If the user asked for loading something but you see \"No Context Available\" as preloaded content, then the system was unable to load that file/webpage/video. Inform the user politely about the situation.\n",
    " - You don't need to mention that \"you were able to access some preloaded content\". PRETEND as if YOU YOURSELF loaded that information.\n",
    "\n",
    "Be professional and ask for clarification if instructions or context is unclear.\n",
    "\"\"\")\n",
    "    ai_msg: AIMessage = llm.invoke([system_prompt] + state[\"messages\"])\n",
    "    # return None to reset every other variable except \"messages\"\n",
    "    return {\"messages\": [ai_msg], \"retrieved_docs\": None, \"router_response\": None}"
   ]
  },
  {
   "cell_type": "markdown",
   "id": "61af9671",
   "metadata": {},
   "source": [
    "## Create the Agent"
   ]
  },
  {
   "cell_type": "code",
   "execution_count": 19,
   "id": "2f7f641a",
   "metadata": {},
   "outputs": [],
   "source": [
    "from langgraph.prebuilt import ToolNode\n",
    "from langgraph.graph import START, END, StateGraph\n",
    "\n",
    "def deliver_failed_message_node(state: AgentState) -> AgentState:\n",
    "    return {\"messages\": [ToolMessage(content=f\"failed to load {state['router_response'].url}\", tool_call_id=chat.chat_id)]}\n",
    "\n",
    "graph = (\n",
    "    StateGraph(state_schema=AgentState)\n",
    "    .add_node(\"router_agent\", router_agent_node)\n",
    "    .add_node(\"chat_agent\", chat_agent_node)\n",
    "    .add_node(\"document_loader\", lambda state: state)\n",
    "    .add_node(\"document_retriever\", document_retriever_node)\n",
    "    .add_node(\n",
    "        \"deliver_failed_message\",\n",
    "        deliver_failed_message_node\n",
    "        # lambda state: {\n",
    "            # \"messages\": [ToolMessage(content=f\"failed to load {state['router_response'].url}\", tool_call_id=chat.chat_id)]\n",
    "        # }\n",
    "    )\n",
    "    \n",
    "    .add_edge(START, \"router_agent\")\n",
    "    .add_conditional_edges(\n",
    "        source=\"router_agent\",\n",
    "        path=query_router_node,\n",
    "        path_map={\n",
    "            \"use_loader\": \"document_loader\",\n",
    "            \"use_retriever\": \"document_retriever\",\n",
    "        }\n",
    "    )\n",
    "    .add_conditional_edges(\n",
    "        source=\"document_loader\",\n",
    "        path=document_loader_node,\n",
    "        path_map={\n",
    "            \"fail\": \"deliver_failed_message\",\n",
    "            \"success\": \"document_retriever\",\n",
    "        }\n",
    "    )\n",
    "    .add_edge(\"deliver_failed_message\", \"chat_agent\")\n",
    "    .add_edge(\"document_retriever\", \"chat_agent\")\n",
    "    .add_edge(\"chat_agent\", END)\n",
    ")\n",
    "\n",
    "agent = graph.compile()"
   ]
  },
  {
   "cell_type": "code",
   "execution_count": 20,
   "id": "55daa84c",
   "metadata": {},
   "outputs": [
    {
     "data": {
      "image/png": "[encoded data removed]",
      "text/plain": [
       "<IPython.core.display.Image object>"
      ]
     },
     "metadata": {},
     "output_type": "display_data"
    }
   ],
   "source": [
    "from IPython.display import Image, display\n",
    "display(Image(agent.get_graph().draw_mermaid_png()))"
   ]
  },
  {
   "cell_type": "markdown",
   "id": "ffcf9978",
   "metadata": {},
   "source": [
    "## Chat Function"
   ]
  },
  {
   "cell_type": "code",
   "execution_count": 21,
   "id": "fb496ff2",
   "metadata": {},
   "outputs": [],
   "source": [
    "def chat_loop() -> None:\n",
    "    print(f\"Chat ID: {chat.chat_id}\")\n",
    "    usr_msg: str = input(\">> \").strip()\n",
    "\n",
    "    while usr_msg.lower() != \"/exit\":\n",
    "        usr_msg = HumanMessage(usr_msg)\n",
    "        chat.add_message(usr_msg)\n",
    "        chat.chat_messages = agent.invoke({\"messages\": chat.chat_messages})[\"messages\"]\n",
    "        # for update in agent.stream({\"messages\": chat.chat_messages}, stream_mode=\"updates\"):\n",
    "            # print(update)\n",
    "        ai_msg: AIMessage = chat.chat_messages[-1]\n",
    "        ai_msg.pretty_print()\n",
    "        usr_msg: str = input(\">> \").strip()\n",
    "    chat.end_chat()\n",
    "    chat.remove_unlisted_chats()"
   ]
  },
  {
   "cell_type": "code",
   "execution_count": 22,
   "id": "46d4e96d",
   "metadata": {},
   "outputs": [
    {
     "name": "stdout",
     "output_type": "stream",
     "text": [
      "Chat ID: 09913ff7-de58-47da-9bbe-651d40b90def\n"
     ]
    },
    {
     "name": "stderr",
     "output_type": "stream",
     "text": [
      "No relevant docs were retrieved using the relevance score threshold 0.6\n"
     ]
    },
    {
     "name": "stdout",
     "output_type": "stream",
     "text": [
      "\n",
      "\n",
      "\n",
      "\n",
      "[]\n",
      "\n",
      "==================================\u001b[1m Ai Message \u001b[0m==================================\n",
      "\n",
      "Hello! I am IntelliTube AI, ready to assist you with your research needs. How can I help you today?\n"
     ]
    },
    {
     "name": "stderr",
     "output_type": "stream",
     "text": [
      "\u001b[32m2025-07-11 12:39:08.609\u001b[0m | \u001b[1mINFO    \u001b[0m | \u001b[36m__main__\u001b[0m:\u001b[36mdocument_loader_node\u001b[0m:\u001b[36m2\u001b[0m - \u001b[1mstate[\"router_response\"] = RouterAgentResponse(user_query='what is the llm used in /WindowsDrive/DriftResearchProject/intellitube/src/intellitube/chatbot.py2', url='/WindowsDrive/DriftResearchProject/intellitube/src/intellitube/chatbot.py2', url_of='document')\u001b[0m\n",
      "\u001b[32m2025-07-11 12:39:08.609\u001b[0m | \u001b[1mINFO    \u001b[0m | \u001b[36m__main__\u001b[0m:\u001b[36mdocument_loader_node\u001b[0m:\u001b[36m4\u001b[0m - \u001b[1mloader_func = <function load_document at 0x7fd29a3156c0>\u001b[0m\n",
      "\u001b[32m2025-07-11 12:39:08.610\u001b[0m | \u001b[34m\u001b[1mDEBUG   \u001b[0m | \u001b[36m__main__\u001b[0m:\u001b[36mload_document\u001b[0m:\u001b[36m9\u001b[0m - \u001b[34m\u001b[1mLoading Document...\u001b[0m\n"
     ]
    },
    {
     "name": "stdout",
     "output_type": "stream",
     "text": [
      "==================================\u001b[1m Ai Message \u001b[0m==================================\n",
      "\n",
      "I checked the content loaded from `/WindowsDrive/DriftResearchProject/intellitube/src/intellitube/chatbot.py2`, but unfortunately, I don't have information about the specific LLM used in that file.\n"
     ]
    },
    {
     "name": "stderr",
     "output_type": "stream",
     "text": [
      "\u001b[32m2025-07-11 12:39:34.922\u001b[0m | \u001b[1mINFO    \u001b[0m | \u001b[36m__main__\u001b[0m:\u001b[36mdocument_loader_node\u001b[0m:\u001b[36m2\u001b[0m - \u001b[1mstate[\"router_response\"] = RouterAgentResponse(user_query='wha bout now?', url='/WindowsDrive/DriftResearchProject/intellitube/src/intellitube/chatbot.py', url_of='document')\u001b[0m\n",
      "\u001b[32m2025-07-11 12:39:34.923\u001b[0m | \u001b[1mINFO    \u001b[0m | \u001b[36m__main__\u001b[0m:\u001b[36mdocument_loader_node\u001b[0m:\u001b[36m4\u001b[0m - \u001b[1mloader_func = <function load_document at 0x7fd29a3156c0>\u001b[0m\n",
      "\u001b[32m2025-07-11 12:39:34.923\u001b[0m | \u001b[34m\u001b[1mDEBUG   \u001b[0m | \u001b[36m__main__\u001b[0m:\u001b[36mload_document\u001b[0m:\u001b[36m9\u001b[0m - \u001b[34m\u001b[1mLoading Document...\u001b[0m\n",
      "\u001b[32m2025-07-11 12:39:34.924\u001b[0m | \u001b[1mINFO    \u001b[0m | \u001b[36mintellitube.rag\u001b[0m:\u001b[36madd_documents\u001b[0m:\u001b[36m96\u001b[0m - \u001b[1mSplitting text...\u001b[0m\n",
      "\u001b[32m2025-07-11 12:39:34.925\u001b[0m | \u001b[1mINFO    \u001b[0m | \u001b[36mintellitube.rag\u001b[0m:\u001b[36madd_documents\u001b[0m:\u001b[36m100\u001b[0m - \u001b[1mAdding documents...\u001b[0m\n",
      "No relevant docs were retrieved using the relevance score threshold 0.6\n"
     ]
    },
    {
     "name": "stdout",
     "output_type": "stream",
     "text": [
      "\n",
      "\n",
      "\n",
      "\n",
      "[]\n",
      "\n",
      "==================================\u001b[1m Ai Message \u001b[0m==================================\n",
      "\n",
      "I checked the content loaded from `/WindowsDrive/DriftResearchProject/intellitube/src/intellitube/chatbot.py`, but unfortunately, I don't have information about the specific LLM used in that file.\n"
     ]
    },
    {
     "name": "stderr",
     "output_type": "stream",
     "text": [
      "\u001b[32m2025-07-11 12:39:49.589\u001b[0m | \u001b[1mINFO    \u001b[0m | \u001b[36m__main__\u001b[0m:\u001b[36mdocument_loader_node\u001b[0m:\u001b[36m2\u001b[0m - \u001b[1mstate[\"router_response\"] = RouterAgentResponse(user_query='what is the llm used in /WindowsDrive/DriftResearchProject/intellitube/src/intellitube/chatbot.py', url='/WindowsDrive/DriftResearchProject/intellitube/src/intellitube/chatbot.py', url_of='document')\u001b[0m\n",
      "\u001b[32m2025-07-11 12:39:49.589\u001b[0m | \u001b[1mINFO    \u001b[0m | \u001b[36m__main__\u001b[0m:\u001b[36mdocument_loader_node\u001b[0m:\u001b[36m4\u001b[0m - \u001b[1mloader_func = <function load_document at 0x7fd29a3156c0>\u001b[0m\n",
      "\u001b[32m2025-07-11 12:39:49.590\u001b[0m | \u001b[34m\u001b[1mDEBUG   \u001b[0m | \u001b[36m__main__\u001b[0m:\u001b[36mload_document\u001b[0m:\u001b[36m9\u001b[0m - \u001b[34m\u001b[1mLoading Document...\u001b[0m\n",
      "\u001b[32m2025-07-11 12:39:49.590\u001b[0m | \u001b[1mINFO    \u001b[0m | \u001b[36mintellitube.rag\u001b[0m:\u001b[36madd_documents\u001b[0m:\u001b[36m96\u001b[0m - \u001b[1mSplitting text...\u001b[0m\n",
      "\u001b[32m2025-07-11 12:39:49.591\u001b[0m | \u001b[1mINFO    \u001b[0m | \u001b[36mintellitube.rag\u001b[0m:\u001b[36madd_documents\u001b[0m:\u001b[36m100\u001b[0m - \u001b[1mAdding documents...\u001b[0m\n"
     ]
    },
    {
     "name": "stdout",
     "output_type": "stream",
     "text": [
      "\n",
      "\n",
      "\n",
      "\n",
      "[Document(metadata={'source': '/WindowsDrive/DriftResearchProject/intellitube/src/intellitube/chatbot.py', '_id': '486b5cd97b5749a98a5911fe8aa5375b', '_collection_name': '09913ff7-de58-47da-9bbe-651d40b90def'}, page_content='ai_msg: AIMessage = response_llm.invoke(\\n        [system_prompt] + state[\"messages\"]\\n    )\\n    return {\"messages\": ai_msg}'), Document(metadata={'source': '/WindowsDrive/DriftResearchProject/intellitube/src/intellitube/chatbot.py', '_id': '59d822ff31a24405978c0e5cfcc54f30', '_collection_name': '09913ff7-de58-47da-9bbe-651d40b90def'}, page_content='ai_msg: AIMessage = response_llm.invoke(\\n        [system_prompt] + state[\"messages\"]\\n    )\\n    return {\"messages\": ai_msg}'), Document(metadata={'source': '/WindowsDrive/DriftResearchProject/intellitube/src/intellitube/chatbot.py', '_id': 'eeece6b378304607a305fb695bdc2001', '_collection_name': '09913ff7-de58-47da-9bbe-651d40b90def'}, page_content='# from intellitube.utils import mermaid2png\\n# mermaid2png.draw_png_dark(agent, \"images/chatbot_graph_2.png\")\\n\\n\\n# Invoke the graph\\n# response = agent.invoke({\"messages\": [HumanMessage(\"Hi, what\\'s up?\")]})\\n# print(response)\\n\\nfrom langchain_community.document_loaders import WebBaseLoader\\nadd_document(\\n    WebBaseLoader(\"https://lilianweng.github.io/posts/2024-07-07-hallucination/\").load()[0]\\n)\\n# print(documents[0])\\n# print(documents[0].document)\\n# print(documents[0].summary)\\n\\ndef chat() -> None:'), Document(metadata={'source': '/WindowsDrive/DriftResearchProject/intellitube/src/intellitube/chatbot.py', '_id': '7094abcc2afd47d682567e0620b7cd87', '_collection_name': '09913ff7-de58-47da-9bbe-651d40b90def'}, page_content='# from intellitube.utils import mermaid2png\\n# mermaid2png.draw_png_dark(agent, \"images/chatbot_graph_2.png\")\\n\\n\\n# Invoke the graph\\n# response = agent.invoke({\"messages\": [HumanMessage(\"Hi, what\\'s up?\")]})\\n# print(response)\\n\\nfrom langchain_community.document_loaders import WebBaseLoader\\nadd_document(\\n    WebBaseLoader(\"https://lilianweng.github.io/posts/2024-07-07-hallucination/\").load()[0]\\n)\\n# print(documents[0])\\n# print(documents[0].document)\\n# print(documents[0].summary)\\n\\ndef chat() -> None:')]\n",
      "\n",
      "==================================\u001b[1m Ai Message \u001b[0m==================================\n",
      "\n",
      "I am IntelliTube AI. After reviewing the content from `/WindowsDrive/DriftResearchProject/intellitube/src/intellitube/chatbot.py`, I can see that the code uses `response_llm.invoke` to generate responses. However, the specific LLM being used by `response_llm` is not explicitly defined in the provided snippets.\n"
     ]
    },
    {
     "name": "stderr",
     "output_type": "stream",
     "text": [
      "\u001b[32m2025-07-11 12:40:34.263\u001b[0m | \u001b[1mINFO    \u001b[0m | \u001b[36m__main__\u001b[0m:\u001b[36mdocument_loader_node\u001b[0m:\u001b[36m2\u001b[0m - \u001b[1mstate[\"router_response\"] = RouterAgentResponse(user_query='Okay, but can you tell me how to strem the subgraph outputs from here:', url='https://langchain-ai.github.io/langgraph/how-tos/subgraph/#stream-subgraph-outputs', url_of='website')\u001b[0m\n",
      "\u001b[32m2025-07-11 12:40:34.263\u001b[0m | \u001b[1mINFO    \u001b[0m | \u001b[36m__main__\u001b[0m:\u001b[36mdocument_loader_node\u001b[0m:\u001b[36m4\u001b[0m - \u001b[1mloader_func = <function load_webpage at 0x7fd29a025580>\u001b[0m\n",
      "\u001b[32m2025-07-11 12:40:35.422\u001b[0m | \u001b[1mINFO    \u001b[0m | \u001b[36mintellitube.rag\u001b[0m:\u001b[36madd_documents\u001b[0m:\u001b[36m96\u001b[0m - \u001b[1mSplitting text...\u001b[0m\n",
      "\u001b[32m2025-07-11 12:40:35.423\u001b[0m | \u001b[1mINFO    \u001b[0m | \u001b[36mintellitube.rag\u001b[0m:\u001b[36madd_documents\u001b[0m:\u001b[36m100\u001b[0m - \u001b[1mAdding documents...\u001b[0m\n",
      "\u001b[32m2025-07-11 12:40:35.719\u001b[0m | \u001b[34m\u001b[1mDEBUG   \u001b[0m | \u001b[36m__main__\u001b[0m:\u001b[36mload_webpage\u001b[0m:\u001b[36m9\u001b[0m - \u001b[34m\u001b[1mLoading Webpage...\u001b[0m\n"
     ]
    },
    {
     "name": "stdout",
     "output_type": "stream",
     "text": [
      "\n",
      "\n",
      "\n",
      "\n",
      "[Document(metadata={'source': 'https://langchain-ai.github.io/langgraph/how-tos/subgraph/#stream-subgraph-outputs', 'title': 'Use subgraphs', 'description': 'Build reliable, stateful AI systems, without giving up control', 'language': 'en', '_id': '2926c25bcf7b4191afa113750a8da65b', '_collection_name': '09913ff7-de58-47da-9bbe-651d40b90def'}, page_content=\"Set subgraphs=True to stream outputs from subgraphs.\\n\\n```\\n((), {'node_1': {'foo': 'hi! foo'}})\\n(('node_2:e58e5673-a661-ebb0-70d4-e298a7fc28b7',), {'subgraph_node_1': {'bar': 'bar'}})\\n(('node_2:e58e5673-a661-ebb0-70d4-e298a7fc28b7',), {'subgraph_node_2': {'foo': 'hi! foobar'}})\\n((), {'node_2': {'foo': 'hi! foobar'}})\\n\\n\\n\\n\\n\\n\\n\\n\\n  Back to top\\n\\n\\n\\n\\n\\n\\n\\n\\n\\n\\n                Previous\\n              \\n\\n                Overview\\n              \\n\\n\\n\\n\\n\\n                Next\"), Document(metadata={'source': 'https://langchain-ai.github.io/langgraph/how-tos/subgraph/#stream-subgraph-outputs', 'title': 'Use subgraphs', 'description': 'Build reliable, stateful AI systems, without giving up control', 'language': 'en', '_id': 'ab43464b1c6a4adc8d629cd871cce79c', '_collection_name': '09913ff7-de58-47da-9bbe-651d40b90def'}, page_content='Stream subgraph outputs¶\\nTo include outputs from subgraphs in the streamed outputs, you can set subgraphs=True in the .stream() method of the parent graph. This will stream outputs from both the parent graph and any subgraphs.\\nfor chunk in graph.stream(\\n    {\"foo\": \"foo\"},\\n    subgraphs=True, # (1)!\\n    stream_mode=\"updates\",\\n):\\n    print(chunk)\\n\\n\\nSet subgraphs=True to stream outputs from subgraphs.'), Document(metadata={'source': 'https://langchain-ai.github.io/langgraph/how-tos/subgraph/#stream-subgraph-outputs', 'title': 'Use subgraphs', 'description': 'Build reliable, stateful AI systems, without giving up control', 'language': 'en', '_id': 'b6d5aa0902e8449fb441147954f1f032', '_collection_name': '09913ff7-de58-47da-9bbe-651d40b90def'}, page_content='def subgraph_node_1(state: SubgraphState):\\n    return {\"baz\": \"baz\"}\\n\\ndef subgraph_node_2(state: SubgraphState):\\n    return {\"bar\": state[\"bar\"] + state[\"baz\"]}\\n\\nsubgraph_builder = StateGraph(SubgraphState)\\nsubgraph_builder.add_node(subgraph_node_1)\\nsubgraph_builder.add_node(subgraph_node_2)\\nsubgraph_builder.add_edge(START, \"subgraph_node_1\")\\nsubgraph_builder.add_edge(\"subgraph_node_1\", \"subgraph_node_2\")\\nsubgraph = subgraph_builder.compile()'), Document(metadata={'source': 'https://langchain-ai.github.io/langgraph/how-tos/subgraph/#stream-subgraph-outputs', 'title': 'Use subgraphs', 'description': 'Build reliable, stateful AI systems, without giving up control', 'language': 'en', '_id': '01702901470844d9a55aed97caf0ea65', '_collection_name': '09913ff7-de58-47da-9bbe-651d40b90def'}, page_content='Set subgraphs=True to stream outputs from subgraphs.\\n\\n\\nStream from subgraphs\\nfrom typing_extensions import TypedDict\\nfrom langgraph.graph.state import StateGraph, START\\n\\n# Define subgraph\\nclass SubgraphState(TypedDict):\\n    foo: str\\n    bar: str\\n\\ndef subgraph_node_1(state: SubgraphState):\\n    return {\"bar\": \"bar\"}')]\n",
      "\n",
      "==================================\u001b[1m Ai Message \u001b[0m==================================\n",
      "\n",
      "I am IntelliTube AI.\n",
      "\n",
      "To stream subgraph outputs, you need to set `subgraphs=True` in the `.stream()` method of the parent graph. This will stream outputs from both the parent graph and any subgraphs.\n",
      "\n",
      "Here's an example:\n",
      "\n",
      "```python\n",
      "for chunk in graph.stream(\n",
      "    {\"foo\": \"foo\"},\n",
      "    subgraphs=True,\n",
      "    stream_mode=\"updates\",\n",
      "):\n",
      "    print(chunk)\n",
      "```\n",
      "\n",
      "By setting `subgraphs=True`, the outputs from the subgraphs will be included in the streamed outputs.\n"
     ]
    },
    {
     "name": "stderr",
     "output_type": "stream",
     "text": [
      "No relevant docs were retrieved using the relevance score threshold 0.6\n"
     ]
    },
    {
     "name": "stdout",
     "output_type": "stream",
     "text": [
      "\n",
      "\n",
      "\n",
      "\n",
      "[]\n",
      "\n",
      "==================================\u001b[1m Ai Message \u001b[0m==================================\n",
      "\n",
      "I'm glad I could help! Is there anything else I can assist you with today?\n"
     ]
    }
   ],
   "source": [
    "chat_loop()"
   ]
  }
 ],
 "metadata": {
  "kernelspec": {
   "display_name": "pyenv",
   "language": "python",
   "name": "python3"
  },
  "language_info": {
   "codemirror_mode": {
    "name": "ipython",
    "version": 3
   },
   "file_extension": ".py",
   "mimetype": "text/x-python",
   "name": "python",
   "nbconvert_exporter": "python",
   "pygments_lexer": "ipython3",
   "version": "3.13.5"
  }
 },
 "nbformat": 4,
 "nbformat_minor": 5
}
